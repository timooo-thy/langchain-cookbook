{
 "cells": [
  {
   "cell_type": "code",
   "execution_count": 1,
   "metadata": {},
   "outputs": [
    {
     "data": {
      "text/plain": [
       "True"
      ]
     },
     "execution_count": 1,
     "metadata": {},
     "output_type": "execute_result"
    }
   ],
   "source": [
    "from langchain_openai import ChatOpenAI\n",
    "from dotenv import load_dotenv\n",
    "load_dotenv()"
   ]
  },
  {
   "cell_type": "markdown",
   "metadata": {},
   "source": [
    "## Memory with RAG\n",
    "\n",
    "We will use selenium to scrape a website that requires javascript"
   ]
  },
  {
   "cell_type": "code",
   "execution_count": 22,
   "metadata": {},
   "outputs": [],
   "source": [
    "from selenium import webdriver\n",
    "from selenium.webdriver.chrome.service import Service\n",
    "from selenium.webdriver.chrome.options import Options\n",
    "import time\n",
    "\n",
    "# Chrome driver path\n",
    "chromedriver_path = \"/Users/timothylee/Desktop/chromedriver\"\n",
    "\n",
    "# Chrome options\n",
    "chrome_options = Options()\n",
    "chrome_options.add_argument(\"--headless\")\n",
    "\n",
    "service = Service(executable_path=chromedriver_path)\n",
    "driver = webdriver.Chrome(service=service, options=chrome_options)\n",
    "driver.get(\"https://sguniguide.tech/\")\n",
    "time.sleep(5)\n",
    "\n",
    "# Get the innerHTML of the body\n",
    "docs = driver.find_element(by=\"tag name\", value=\"body\").get_attribute('innerHTML')\n",
    "driver.quit()"
   ]
  },
  {
   "cell_type": "code",
   "execution_count": 148,
   "metadata": {},
   "outputs": [],
   "source": [
    "from langchain_openai import OpenAIEmbeddings\n",
    "llm = ChatOpenAI()\n",
    "embeddings = OpenAIEmbeddings()"
   ]
  },
  {
   "cell_type": "code",
   "execution_count": 47,
   "metadata": {},
   "outputs": [],
   "source": [
    "from langchain_community.vectorstores import Chroma\n",
    "from langchain.text_splitter import (\n",
    "    Language,\n",
    "    RecursiveCharacterTextSplitter,\n",
    ")\n",
    "\n",
    "# We will split text into chunks using HTML language\n",
    "text_splitter = RecursiveCharacterTextSplitter.from_language(language=Language.HTML, chunk_size=500, chunk_overlap=0)\n",
    "documents = text_splitter.create_documents([docs])\n",
    "\n",
    "# save collection to disk\n",
    "vector = Chroma.from_documents(documents, embeddings, persist_directory=\"./chroma_db\")"
   ]
  },
  {
   "cell_type": "code",
   "execution_count": 52,
   "metadata": {},
   "outputs": [
    {
     "data": {
      "text/plain": [
       "82"
      ]
     },
     "execution_count": 52,
     "metadata": {},
     "output_type": "execute_result"
    }
   ],
   "source": [
    "# delete the collection\n",
    "# vector.delete_collection()\n",
    "\n",
    "# load the collection from disk\n",
    "vector = Chroma(persist_directory=\"./chroma_db\", embedding_function=embeddings)\n",
    "\n",
    "# get the number of documents in the collection\n",
    "vector._collection.count()"
   ]
  },
  {
   "cell_type": "code",
   "execution_count": 38,
   "metadata": {},
   "outputs": [],
   "source": [
    "from langchain.chains.combine_documents import create_stuff_documents_chain\n",
    "from langchain_core.prompts import ChatPromptTemplate\n",
    "\n",
    "prompt = ChatPromptTemplate.from_template(\"\"\"Answer the following question based only on the provided context:\n",
    "                                          <context>\n",
    "                                          {context}\n",
    "                                          </context>\n",
    "                                          Question: {input}\"\"\")\n",
    "\n",
    "document_chain = create_stuff_documents_chain(llm, prompt)"
   ]
  },
  {
   "cell_type": "code",
   "execution_count": 53,
   "metadata": {},
   "outputs": [],
   "source": [
    "from langchain.chains import create_retrieval_chain\n",
    "\n",
    "# Retrieve k relevant documents\n",
    "retriever = vector.as_retriever(search_kwargs={\"k\": 3})\n",
    "retrieval_chain = create_retrieval_chain(retriever, document_chain)"
   ]
  },
  {
   "cell_type": "code",
   "execution_count": 56,
   "metadata": {},
   "outputs": [
    {
     "name": "stdout",
     "output_type": "stream",
     "text": [
      "The website mentioned in the context is Singapore University of Technology and Design.\n"
     ]
    }
   ],
   "source": [
    "response = retrieval_chain.invoke({\"input\": \"What schools are in this website?\"})\n",
    "print(response['answer'])"
   ]
  },
  {
   "cell_type": "code",
   "execution_count": 186,
   "metadata": {},
   "outputs": [],
   "source": [
    "from langchain.chains import create_history_aware_retriever\n",
    "from langchain_core.prompts import MessagesPlaceholder\n",
    "from langchain.memory import ConversationBufferMemory, ConversationSummaryMemory, ConversationBufferWindowMemory, ConversationSummaryBufferMemory, ConversationTokenBufferMemory\n",
    "from langchain_core.runnables import RunnableLambda, RunnablePassthrough\n",
    "from operator import itemgetter\n",
    "from langchain_core.messages import AIMessage, HumanMessage\n",
    "\n",
    "prompt = ChatPromptTemplate.from_messages([\n",
    "    MessagesPlaceholder(variable_name=\"chat_history\"),\n",
    "    (\"user\", \"{input}\"),\n",
    "    (\"user\", \"Given the above conversation, generate a search query to look up in order to get information relevant to the conversation. Correct and grammatically complete sentences is required. Only return the query.\"),\n",
    "])\n",
    "\n",
    "retriever_chain = create_history_aware_retriever(llm, retriever, prompt)"
   ]
  },
  {
   "cell_type": "markdown",
   "metadata": {},
   "source": [
    "## ConversationBufferMemory\n",
    "\n",
    "The ConversationBufferMemory is the most straightforward conversational memory in LangChain. As we described above, the raw input of the past conversation between the human and AI is passed — in its raw form — to the {history} parameter."
   ]
  },
  {
   "cell_type": "code",
   "execution_count": 116,
   "metadata": {},
   "outputs": [],
   "source": [
    "chat_history = [\n",
    "    HumanMessage(content=\"Hello what schools are mentioned?\"),\n",
    "    AIMessage(content=\"The website mentioned in the context is Singapore University of Technology and Design.\")\n",
    "]\n",
    "\n",
    "memory = ConversationBufferMemory(return_messages=True)\n",
    "memory.chat_memory.add_messages(chat_history)"
   ]
  },
  {
   "cell_type": "code",
   "execution_count": 117,
   "metadata": {},
   "outputs": [
    {
     "data": {
      "text/plain": [
       "{'history': [HumanMessage(content='Hello what schools are mentioned?'),\n",
       "  AIMessage(content='The website mentioned in the context is Singapore University of Technology and Design.')]}"
      ]
     },
     "execution_count": 117,
     "metadata": {},
     "output_type": "execute_result"
    }
   ],
   "source": [
    "memory.load_memory_variables({})"
   ]
  },
  {
   "cell_type": "code",
   "execution_count": 118,
   "metadata": {},
   "outputs": [
    {
     "name": "stdout",
     "output_type": "stream",
     "text": [
      "The other schools mentioned in the context are Singapore Institute of Technology and Singapore University of Social Sciences.\n"
     ]
    }
   ],
   "source": [
    "prompt = ChatPromptTemplate.from_messages([\n",
    "    (\"system\", \"Answer the following question based only on the provided context:\\n\\n{context}\"),\n",
    "    MessagesPlaceholder(variable_name=\"chat_history\"),\n",
    "    (\"user\", \"{input}\")\n",
    "])\n",
    "\n",
    "document_chain = create_stuff_documents_chain(llm, prompt)\n",
    "retrieval_chain = create_retrieval_chain(retriever_chain, document_chain)\n",
    "\n",
    "final_chain = (\n",
    "    RunnablePassthrough.assign(\n",
    "        chat_history=RunnableLambda(memory.load_memory_variables) | itemgetter(\"history\")\n",
    "    )\n",
    "    | retrieval_chain\n",
    ")\n",
    "\n",
    "input = {\"input\": \"What other schools are mentioned?\"}\n",
    "response = final_chain.invoke(input)\n",
    "print(response['answer'])\n",
    "memory.save_context(input, {\"output\": response['answer']})"
   ]
  },
  {
   "cell_type": "code",
   "execution_count": 119,
   "metadata": {},
   "outputs": [
    {
     "data": {
      "text/plain": [
       "{'history': [HumanMessage(content='Hello what schools are mentioned?'),\n",
       "  AIMessage(content='The website mentioned in the context is Singapore University of Technology and Design.'),\n",
       "  HumanMessage(content='What other schools are mentioned?'),\n",
       "  AIMessage(content='The other schools mentioned in the context are Singapore Institute of Technology and Singapore University of Social Sciences.')]}"
      ]
     },
     "execution_count": 119,
     "metadata": {},
     "output_type": "execute_result"
    }
   ],
   "source": [
    "memory.load_memory_variables({})"
   ]
  },
  {
   "cell_type": "code",
   "execution_count": 120,
   "metadata": {},
   "outputs": [
    {
     "name": "stdout",
     "output_type": "stream",
     "text": [
      "The accountancy course at SMU provides a holistic education that is broad-based with a strong accounting core. It covers areas such as business, technology, entrepreneurship, leadership skills, communications, and social responsibility. Additionally, all students are guaranteed a Second Major, which they can choose from any school across SMU.\n"
     ]
    }
   ],
   "source": [
    "response = final_chain.invoke({\"input\": \"Describe the accountancy course at SMU?\"})\n",
    "print(response['answer'])"
   ]
  },
  {
   "cell_type": "markdown",
   "metadata": {},
   "source": [
    "## ConversationBufferWindowMemory\n",
    "The ConversationBufferWindowMemory acts in the same way as our earlier “buffer memory” but adds a window to the memory. Meaning that we only keep a given number of past interactions before “forgetting” them."
   ]
  },
  {
   "cell_type": "code",
   "execution_count": 127,
   "metadata": {},
   "outputs": [
    {
     "data": {
      "text/plain": [
       "{'history': [HumanMessage(content='Hello what schools are mentioned?'),\n",
       "  AIMessage(content='The website mentioned in the context is Singapore University of Technology and Design.')]}"
      ]
     },
     "execution_count": 127,
     "metadata": {},
     "output_type": "execute_result"
    }
   ],
   "source": [
    "memory = ConversationBufferWindowMemory(return_messages=True, k=2)\n",
    "memory.chat_memory.add_messages(chat_history)\n",
    "memory.load_memory_variables({})"
   ]
  },
  {
   "cell_type": "code",
   "execution_count": 128,
   "metadata": {},
   "outputs": [
    {
     "name": "stdout",
     "output_type": "stream",
     "text": [
      "The other schools mentioned are Singapore Institute of Technology and Singapore University of Social Sciences.\n"
     ]
    }
   ],
   "source": [
    "input = {\"input\": \"What other schools are mentioned?\"}\n",
    "\n",
    "final_chain = (\n",
    "    RunnablePassthrough.assign(\n",
    "        chat_history=RunnableLambda(memory.load_memory_variables) | itemgetter(\"history\")\n",
    "    )\n",
    "    | retrieval_chain\n",
    ")\n",
    "\n",
    "response = final_chain.invoke(input)\n",
    "print(response['answer'])\n",
    "memory.save_context(input, {\"output\": response['answer']})"
   ]
  },
  {
   "cell_type": "code",
   "execution_count": 129,
   "metadata": {},
   "outputs": [
    {
     "name": "stdout",
     "output_type": "stream",
     "text": [
      "Singapore Institute of Technology (SIT) is a university in Singapore that offers applied degree programs in partnership with reputable overseas universities. SIT focuses on applied learning and aims to produce graduates who are ready for the workforce. The university collaborates closely with industry partners to ensure that its curriculum is relevant and up-to-date. SIT has a strong emphasis on hands-on learning through internships, projects, and industry attachments.\n"
     ]
    }
   ],
   "source": [
    "input = {\"input\": \"Tell me more about Singapore Institute of Technology?\"}\n",
    "response = final_chain.invoke(input)\n",
    "print(response['answer'])\n",
    "memory.save_context(input, {\"output\": response['answer']})"
   ]
  },
  {
   "cell_type": "code",
   "execution_count": 130,
   "metadata": {},
   "outputs": [
    {
     "data": {
      "text/plain": [
       "{'history': [HumanMessage(content='What other schools are mentioned?'),\n",
       "  AIMessage(content='The other schools mentioned are Singapore Institute of Technology and Singapore University of Social Sciences.'),\n",
       "  HumanMessage(content='Tell me more about Singapore Institute of Technology?'),\n",
       "  AIMessage(content='Singapore Institute of Technology (SIT) is a university in Singapore that offers applied degree programs in partnership with reputable overseas universities. SIT focuses on applied learning and aims to produce graduates who are ready for the workforce. The university collaborates closely with industry partners to ensure that its curriculum is relevant and up-to-date. SIT has a strong emphasis on hands-on learning through internships, projects, and industry attachments.')]}"
      ]
     },
     "execution_count": 130,
     "metadata": {},
     "output_type": "execute_result"
    }
   ],
   "source": [
    "memory.load_memory_variables({})"
   ]
  },
  {
   "cell_type": "code",
   "execution_count": 131,
   "metadata": {},
   "outputs": [
    {
     "name": "stdout",
     "output_type": "stream",
     "text": [
      "Your first question was: \"What other schools are mentioned?\"\n"
     ]
    }
   ],
   "source": [
    "# Original first question is 'Hello what schools are mentioned?'\n",
    "input = {\"input\": \"What was my first question?\"}\n",
    "response = final_chain.invoke(input)\n",
    "print(response['answer'])\n",
    "memory.save_context(input, {\"output\": response['answer']})"
   ]
  },
  {
   "cell_type": "code",
   "execution_count": 132,
   "metadata": {},
   "outputs": [
    {
     "data": {
      "text/plain": [
       "{'history': [HumanMessage(content='Tell me more about Singapore Institute of Technology?'),\n",
       "  AIMessage(content='Singapore Institute of Technology (SIT) is a university in Singapore that offers applied degree programs in partnership with reputable overseas universities. SIT focuses on applied learning and aims to produce graduates who are ready for the workforce. The university collaborates closely with industry partners to ensure that its curriculum is relevant and up-to-date. SIT has a strong emphasis on hands-on learning through internships, projects, and industry attachments.'),\n",
       "  HumanMessage(content='What was my first question?'),\n",
       "  AIMessage(content='Your first question was: \"What other schools are mentioned?\"')]}"
      ]
     },
     "execution_count": 132,
     "metadata": {},
     "output_type": "execute_result"
    }
   ],
   "source": [
    "memory.load_memory_variables({})"
   ]
  },
  {
   "cell_type": "markdown",
   "metadata": {},
   "source": [
    "## ConversationSummaryMemory\n",
    "\n",
    "Using ConversationBufferMemory, we very quickly use a lot of tokens and even exceed the context window limit of even the most advanced LLMs available today.\n",
    "\n",
    "To avoid excessive token usage, we can use ConversationSummaryMemory. As the name would suggest, this form of memory summarizes the conversation history before it is passed to the {history} parameter."
   ]
  },
  {
   "cell_type": "code",
   "execution_count": 152,
   "metadata": {},
   "outputs": [
    {
     "name": "stdout",
     "output_type": "stream",
     "text": [
      "Human: Hello what schools are mentioned?\n",
      "AI: The website mentioned in the context is Singapore University of Technology and Design.\n"
     ]
    },
    {
     "data": {
      "text/plain": [
       "{'history': [SystemMessage(content='The human asks what schools are mentioned. The AI responds that the website mentioned in the context is Singapore University of Technology and Design.')]}"
      ]
     },
     "execution_count": 152,
     "metadata": {},
     "output_type": "execute_result"
    }
   ],
   "source": [
    "from langchain.memory import ChatMessageHistory\n",
    "\n",
    "history = ChatMessageHistory()\n",
    "history.add_messages(chat_history)\n",
    "print(history)\n",
    "\n",
    "memory = ConversationSummaryMemory.from_messages(llm=llm, chat_memory=history, return_messages=True)\n",
    "memory.load_memory_variables({})"
   ]
  },
  {
   "cell_type": "code",
   "execution_count": 153,
   "metadata": {},
   "outputs": [
    {
     "name": "stdout",
     "output_type": "stream",
     "text": [
      "I'm sorry, but based on the provided context, I can only confirm that the Singapore University of Technology and Design is mentioned. I do not have information about the courses offered by the universities mentioned in the context.\n"
     ]
    }
   ],
   "source": [
    "input = {\"input\": \"I am Timothy and I am interested in the courses offered by the universities. Can you help me?\"}\n",
    "\n",
    "final_chain = (\n",
    "    RunnablePassthrough.assign(\n",
    "        chat_history=RunnableLambda(memory.load_memory_variables) | itemgetter(\"history\")\n",
    "    )\n",
    "    | retrieval_chain\n",
    ")\n",
    "\n",
    "response = final_chain.invoke(input)\n",
    "print(response['answer'])\n",
    "memory.save_context(input, {\"output\": response['answer']})"
   ]
  },
  {
   "cell_type": "code",
   "execution_count": 154,
   "metadata": {},
   "outputs": [
    {
     "data": {
      "text/plain": [
       "{'history': [SystemMessage(content='The human asks what schools are mentioned and the AI responds that the website mentioned in the context is Singapore University of Technology and Design. When Timothy expresses interest in the courses offered by universities, the AI apologizes for not having information about courses offered and can only confirm the mention of Singapore University of Technology and Design.')]}"
      ]
     },
     "execution_count": 154,
     "metadata": {},
     "output_type": "execute_result"
    }
   ],
   "source": [
    "memory.load_memory_variables({})"
   ]
  },
  {
   "cell_type": "code",
   "execution_count": 155,
   "metadata": {},
   "outputs": [
    {
     "name": "stdout",
     "output_type": "stream",
     "text": [
      "Your name is Timothy.\n"
     ]
    }
   ],
   "source": [
    "response = final_chain.invoke({\"input\": \"What's my name?\"})\n",
    "print(response['answer'])"
   ]
  },
  {
   "cell_type": "markdown",
   "metadata": {},
   "source": [
    "## ConversationSummaryBufferMemory\n",
    "\n",
    "The ConversationSummaryBufferMemory is a mix of the ConversationSummaryMemory and the ConversationBufferWindowMemory. It summarizes the earliest interactions in a conversation while maintaining the max_token_limit most recent tokens in their conversation."
   ]
  },
  {
   "cell_type": "code",
   "execution_count": 180,
   "metadata": {},
   "outputs": [
    {
     "data": {
      "text/plain": [
       "{'history': [HumanMessage(content='Hello what schools are mentioned?'),\n",
       "  AIMessage(content='The website mentioned in the context is Singapore University of Technology and Design.')]}"
      ]
     },
     "execution_count": 180,
     "metadata": {},
     "output_type": "execute_result"
    }
   ],
   "source": [
    "memory = ConversationSummaryBufferMemory(llm=llm, return_messages=True, max_token_limit=40)\n",
    "memory.chat_memory.add_messages(chat_history)\n",
    "memory.load_memory_variables({})"
   ]
  },
  {
   "cell_type": "code",
   "execution_count": 181,
   "metadata": {},
   "outputs": [
    {
     "name": "stdout",
     "output_type": "stream",
     "text": [
      "I'm sorry, but based on the context provided, the website mentioned is Singapore University of Technology and Design, not Singapore Management University (SMU). If you have any questions specifically about Singapore University of Technology and Design, I'd be happy to help.\n"
     ]
    }
   ],
   "source": [
    "input = {\"input\": \"I am Timothy and I am interested in SMU. Can you help me?\"}\n",
    "\n",
    "final_chain = (\n",
    "    RunnablePassthrough.assign(\n",
    "        chat_history=RunnableLambda(memory.load_memory_variables) | itemgetter(\"history\")\n",
    "    )\n",
    "    | retrieval_chain\n",
    ")\n",
    "\n",
    "response = final_chain.invoke(input)\n",
    "print(response['answer'])\n",
    "memory.save_context(input, {\"output\": response['answer']})"
   ]
  },
  {
   "cell_type": "code",
   "execution_count": 182,
   "metadata": {},
   "outputs": [
    {
     "data": {
      "text/plain": [
       "{'history': [SystemMessage(content='The human inquires about the schools mentioned in the context. The AI responds that the website referred to is Singapore University of Technology and Design. Timothy expresses interest in SMU and seeks help. The AI clarifies that based on the context provided, the website mentioned is Singapore University of Technology and Design, not SMU, offering assistance with questions related to the former.')]}"
      ]
     },
     "execution_count": 182,
     "metadata": {},
     "output_type": "execute_result"
    }
   ],
   "source": [
    "memory.load_memory_variables({})"
   ]
  },
  {
   "cell_type": "code",
   "execution_count": 184,
   "metadata": {},
   "outputs": [
    {
     "name": "stdout",
     "output_type": "stream",
     "text": [
      "Based on the context provided, you were asking about the schools mentioned, specifically Singapore University of Technology and Design.\n"
     ]
    }
   ],
   "source": [
    "reponse = final_chain.invoke({\"input\": \"What was I asking for?\"})\n",
    "print(reponse['answer'])\n",
    "memory.save_context({\"input\": \"What was I asking for?\"}, {\"output\": response['answer']})"
   ]
  },
  {
   "cell_type": "code",
   "execution_count": 185,
   "metadata": {},
   "outputs": [
    {
     "data": {
      "text/plain": [
       "{'history': [SystemMessage(content='The human inquires about the schools mentioned in the context, and the AI responds that the website referred to is Singapore University of Technology and Design. Timothy expresses interest in SMU and seeks help. The AI clarifies that based on the context provided, the website mentioned is Singapore University of Technology and Design, not SMU, offering assistance with questions related to the former. When the human asks about what was being inquired, the AI reiterates that the website mentioned is Singapore University of Technology and Design, not Singapore Management University (SMU), and offers help for questions related to the former.')]}"
      ]
     },
     "execution_count": 185,
     "metadata": {},
     "output_type": "execute_result"
    }
   ],
   "source": [
    "memory.load_memory_variables({})"
   ]
  },
  {
   "cell_type": "markdown",
   "metadata": {},
   "source": [
    "## ConversationTokenBufferMemory\n",
    "\n",
    "ConversationTokenBufferMemory keeps a buffer of recent interactions in memory, and uses token length rather than number of interactions to determine when to flush interactions."
   ]
  },
  {
   "cell_type": "code",
   "execution_count": 190,
   "metadata": {},
   "outputs": [
    {
     "data": {
      "text/plain": [
       "{'history': [HumanMessage(content='Hello what schools are mentioned?'),\n",
       "  AIMessage(content='The website mentioned in the context is Singapore University of Technology and Design.')]}"
      ]
     },
     "execution_count": 190,
     "metadata": {},
     "output_type": "execute_result"
    }
   ],
   "source": [
    "memory = ConversationTokenBufferMemory(llm=llm, return_messages=True, max_token_limit=50)\n",
    "memory.chat_memory.add_messages(chat_history)\n",
    "memory.load_memory_variables({})"
   ]
  },
  {
   "cell_type": "code",
   "execution_count": 196,
   "metadata": {},
   "outputs": [
    {
     "name": "stdout",
     "output_type": "stream",
     "text": [
      "Based on the provided context, it seems that you are interested in Nanyang Technological University (NTU). If you have any specific questions about NTU or need assistance with something related to the university, feel free to ask for help.Based on the provided context, it seems that you are interested in Nanyang Technological University (NTU).\n"
     ]
    }
   ],
   "source": [
    "input = {\"input\": \"I am Timothy and I am interested in NTU. Can you help me?\"}\n",
    "\n",
    "final_chain = (\n",
    "    RunnablePassthrough.assign(\n",
    "        chat_history=RunnableLambda(memory.load_memory_variables) | itemgetter(\"history\")\n",
    "    )\n",
    "    | retrieval_chain\n",
    ")\n",
    "\n",
    "response = final_chain.invoke(input)\n",
    "print(response['answer'])\n",
    "memory.save_context(input, {\"output\": response['answer']})"
   ]
  },
  {
   "cell_type": "code",
   "execution_count": 192,
   "metadata": {},
   "outputs": [
    {
     "data": {
      "text/plain": [
       "{'history': [AIMessage(content='Yes, I can help you with information about Nanyang Technological University (NTU). What specific information are you looking for?')]}"
      ]
     },
     "execution_count": 192,
     "metadata": {},
     "output_type": "execute_result"
    }
   ],
   "source": [
    "# Notice the memory saves up to 50 tokens\n",
    "memory.load_memory_variables({})"
   ]
  },
  {
   "cell_type": "code",
   "execution_count": 197,
   "metadata": {},
   "outputs": [
    {
     "name": "stdout",
     "output_type": "stream",
     "text": [
      "Yes, I can help you with information about Nanyang Technological University (NTU). What specific information are you looking for?"
     ]
    }
   ],
   "source": [
    "# streaming output for better ux\n",
    "for chunk in final_chain.stream(input):\n",
    "    if 'answer' in chunk:\n",
    "        print(chunk['answer'], end=\"\", flush=True)"
   ]
  }
 ],
 "metadata": {
  "kernelspec": {
   "display_name": ".venv",
   "language": "python",
   "name": "python3"
  },
  "language_info": {
   "codemirror_mode": {
    "name": "ipython",
    "version": 3
   },
   "file_extension": ".py",
   "mimetype": "text/x-python",
   "name": "python",
   "nbconvert_exporter": "python",
   "pygments_lexer": "ipython3",
   "version": "3.11.7"
  }
 },
 "nbformat": 4,
 "nbformat_minor": 2
}
