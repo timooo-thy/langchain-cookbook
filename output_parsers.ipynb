{
 "cells": [
  {
   "cell_type": "code",
   "execution_count": 70,
   "metadata": {},
   "outputs": [
    {
     "data": {
      "text/plain": [
       "True"
      ]
     },
     "execution_count": 70,
     "metadata": {},
     "output_type": "execute_result"
    }
   ],
   "source": [
    "from langchain_openai import ChatOpenAI\n",
    "from langchain.prompts import PromptTemplate\n",
    "from langchain.output_parsers import CommaSeparatedListOutputParser, PandasDataFrameOutputParser, ResponseSchema, StructuredOutputParser\n",
    "from langchain_core.output_parsers import JsonOutputParser, StrOutputParser\n",
    "from langchain.output_parsers.openai_functions import JsonOutputFunctionsParser, JsonKeyOutputFunctionsParser, PydanticOutputFunctionsParser, PydanticAttrOutputFunctionsParser\n",
    "from langchain_core.runnables import RunnablePassthrough\n",
    "from dotenv import load_dotenv\n",
    "load_dotenv()"
   ]
  },
  {
   "cell_type": "markdown",
   "metadata": {},
   "source": [
    "## Output Parsers"
   ]
  },
  {
   "cell_type": "markdown",
   "metadata": {},
   "source": [
    "### CSV Parser (List)"
   ]
  },
  {
   "cell_type": "code",
   "execution_count": 11,
   "metadata": {},
   "outputs": [],
   "source": [
    "csv_parser = CommaSeparatedListOutputParser()\n",
    "\n",
    "csv_instructions = csv_parser.get_format_instructions()\n",
    "\n",
    "prompt = PromptTemplate(\n",
    "    template=\"Tell me the ingredients for making {food}.\\n{format_instructions}\",\n",
    "    input_variables=[\"food\"],\n",
    "    partial_variables={\"format_instructions\": csv_instructions},\n",
    ")\n",
    "\n",
    "llm = ChatOpenAI()\n",
    "\n",
    "chain = {\"food\": RunnablePassthrough()} | prompt | llm | csv_parser"
   ]
  },
  {
   "cell_type": "code",
   "execution_count": 12,
   "metadata": {},
   "outputs": [
    {
     "data": {
      "text/plain": [
       "['apples',\n",
       " 'sugar',\n",
       " 'flour',\n",
       " 'cinnamon',\n",
       " 'nutmeg',\n",
       " 'butter',\n",
       " 'lemon juice',\n",
       " 'salt',\n",
       " 'pie crust']"
      ]
     },
     "execution_count": 12,
     "metadata": {},
     "output_type": "execute_result"
    }
   ],
   "source": [
    "chain.invoke(\"apple pie\")"
   ]
  },
  {
   "cell_type": "markdown",
   "metadata": {},
   "source": [
    "### String Parser"
   ]
  },
  {
   "cell_type": "code",
   "execution_count": 13,
   "metadata": {},
   "outputs": [],
   "source": [
    "str_parser = StrOutputParser()\n",
    "\n",
    "prompt = PromptTemplate.from_template(\n",
    "    \"Tell me the recipe for making {food}\"\n",
    ")\n",
    "\n",
    "chain = {\"food\": RunnablePassthrough()} | prompt | llm | str_parser"
   ]
  },
  {
   "cell_type": "code",
   "execution_count": 15,
   "metadata": {},
   "outputs": [
    {
     "name": "stdout",
     "output_type": "stream",
     "text": [
      "Ingredients:\n",
      "- 2 lbs beef chuck, cut into 1-inch cubes\n",
      "- 2 tbsp olive oil\n",
      "- 1 onion, chopped\n",
      "- 3 cloves garlic, minced\n",
      "- 2 carrots, peeled and chopped\n",
      "- 2 celery stalks, chopped\n",
      "- 1 tsp dried thyme\n",
      "- 1 tsp dried rosemary\n",
      "- 1 tsp paprika\n",
      "- 2 tbsp tomato paste\n",
      "- 4 cups beef broth\n",
      "- 1 cup red wine\n",
      "- 2 cups potatoes, peeled and diced\n",
      "- Salt and pepper, to taste\n",
      "- Chopped fresh parsley, for garnish\n",
      "\n",
      "Instructions:\n",
      "1. Preheat the oven to 350°F.\n",
      "2. In a large Dutch oven, heat the olive oil over medium-high heat. Add the beef cubes and brown on all sides, about 5 minutes.\n",
      "3. Add the onion, garlic, carrots, and celery to the pot. Cook for another 5 minutes, stirring occasionally.\n",
      "4. Stir in the thyme, rosemary, paprika, and tomato paste. Cook for 2 minutes.\n",
      "5. Pour in the beef broth and red wine. Bring to a boil, then cover and transfer to the oven.\n",
      "6. Cook in the oven for 2 hours, or until the beef is tender.\n",
      "7. Remove the pot from the oven and stir in the potatoes. Return to the oven and cook for another 30 minutes, or until the potatoes are cooked through.\n",
      "8. Season with salt and pepper, to taste.\n",
      "9. Serve the roasted beef stew hot, garnished with chopped parsley. Enjoy!"
     ]
    }
   ],
   "source": [
    "for chunk in chain.stream(\"roasted beef stew\"):\n",
    "    print(chunk, end=\"\", flush=True)"
   ]
  },
  {
   "cell_type": "markdown",
   "metadata": {},
   "source": [
    "### JSON Parser (Dictionary)\n",
    "\n",
    "There are three ways about it, Pydantic (type checking), JsonOutputParser and StructuredOutputParser.\n",
    "\n",
    "Comparing between the first two, the Pydantice way offers the specificity of the schema for the output whereas the JsonOutputParser will only return in JSON but without any schema.\n",
    "\n",
    "For less powerful models, StructuredOutputParser is more useful."
   ]
  },
  {
   "cell_type": "markdown",
   "metadata": {},
   "source": [
    "#### Pydantic"
   ]
  },
  {
   "cell_type": "code",
   "execution_count": 45,
   "metadata": {},
   "outputs": [],
   "source": [
    "from langchain_core.pydantic_v1 import BaseModel, Field, validator\n",
    "from typing import List"
   ]
  },
  {
   "cell_type": "code",
   "execution_count": 17,
   "metadata": {},
   "outputs": [],
   "source": [
    "class Recipe(BaseModel):\n",
    "    recipe_name : str = Field(description=\"The name of the recipe\")\n",
    "    ingredients: List[str] = Field(description=\"The ingredients for the recipe\")\n",
    "    instructions: str = Field(description=\"The instructions for the recipe\")"
   ]
  },
  {
   "cell_type": "code",
   "execution_count": 23,
   "metadata": {},
   "outputs": [],
   "source": [
    "pydantic_parser = JsonOutputParser(pydantic_object=Recipe)\n",
    "\n",
    "pydantic_instructions = pydantic_parser.get_format_instructions()\n",
    "\n",
    "prompt = PromptTemplate(\n",
    "    template=\"Tell me the recipe for making {food}.\\n{format_instructions}\",\n",
    "    input_variables=[\"food\"],\n",
    "    partial_variables={\"format_instructions\": pydantic_instructions},\n",
    ")\n",
    "\n",
    "chain = {\"food\": RunnablePassthrough()} | prompt | llm | pydantic_parser"
   ]
  },
  {
   "cell_type": "code",
   "execution_count": 22,
   "metadata": {},
   "outputs": [
    {
     "data": {
      "text/plain": [
       "{'recipe_name': 'Chicken Rice',\n",
       " 'ingredients': ['2 cups of white rice',\n",
       "  '4 chicken thighs',\n",
       "  '1 onion, chopped',\n",
       "  '2 cloves of garlic, minced',\n",
       "  '2 cups of chicken broth',\n",
       "  '1 teaspoon of salt',\n",
       "  '1/2 teaspoon of pepper',\n",
       "  '1 tablespoon of olive oil'],\n",
       " 'instructions': '1. In a large skillet, heat olive oil over medium heat. Add chicken thighs and cook until browned on both sides. Remove from skillet and set aside.\\n2. In the same skillet, add chopped onion and garlic. Cook until softened.\\n3. Add rice to the skillet and cook for 2-3 minutes, stirring frequently.\\n4. Pour in chicken broth, salt, and pepper. Bring to a boil.\\n5. Place the chicken thighs back into the skillet. Cover and simmer for 20 minutes or until rice is cooked and chicken is tender.\\n6. Serve hot and enjoy!'}"
      ]
     },
     "execution_count": 22,
     "metadata": {},
     "output_type": "execute_result"
    }
   ],
   "source": [
    "chain.invoke(\"chicken rice\")"
   ]
  },
  {
   "cell_type": "markdown",
   "metadata": {},
   "source": [
    "#### JsonOutputParser"
   ]
  },
  {
   "cell_type": "code",
   "execution_count": 24,
   "metadata": {},
   "outputs": [],
   "source": [
    "json_parser = JsonOutputParser()\n",
    "\n",
    "json_instructions = json_parser.get_format_instructions()\n",
    "\n",
    "prompt = PromptTemplate(\n",
    "    template=\"Tell me the recipe for making {food}.\\n{format_instructions}\",\n",
    "    input_variables=[\"food\"],\n",
    "    partial_variables={\"format_instructions\": json_instructions},\n",
    ")\n",
    "\n",
    "chain = {\"food\": RunnablePassthrough()} | prompt | llm | json_parser"
   ]
  },
  {
   "cell_type": "code",
   "execution_count": 25,
   "metadata": {},
   "outputs": [
    {
     "data": {
      "text/plain": [
       "{'recipe': {'title': 'Chicken Rice',\n",
       "  'ingredients': ['1 whole chicken',\n",
       "   '2 cups of white rice',\n",
       "   '4 cups of chicken broth',\n",
       "   '1 onion, chopped',\n",
       "   '3 cloves of garlic, minced',\n",
       "   '1 tablespoon of ginger, grated',\n",
       "   '2 tablespoons of soy sauce',\n",
       "   '1 teaspoon of sesame oil',\n",
       "   'Salt and pepper to taste',\n",
       "   'Green onions, chopped (optional)'],\n",
       "  'instructions': ['In a large pot, bring the chicken broth to a boil.',\n",
       "   'Add the whole chicken to the pot and simmer for about 45 minutes or until the chicken is cooked through.',\n",
       "   'Remove the chicken from the pot and set aside to cool. Once cool, shred the chicken meat and discard the skin and bones.',\n",
       "   'In a separate pot, heat some oil and sauté the onion, garlic, and ginger until fragrant.',\n",
       "   'Add the white rice to the pot and stir to coat the rice with the aromatics.',\n",
       "   'Pour in the chicken broth and bring to a boil. Reduce heat to low, cover, and simmer for about 20 minutes or until the rice is cooked.',\n",
       "   'Stir in the shredded chicken, soy sauce, sesame oil, salt, and pepper.',\n",
       "   'Garnish with chopped green onions before serving.',\n",
       "   'Enjoy your delicious chicken rice!']}}"
      ]
     },
     "execution_count": 25,
     "metadata": {},
     "output_type": "execute_result"
    }
   ],
   "source": [
    "chain.invoke(\"chicken rice\")"
   ]
  },
  {
   "cell_type": "markdown",
   "metadata": {},
   "source": [
    "#### StructuredOutputParser"
   ]
  },
  {
   "cell_type": "code",
   "execution_count": 42,
   "metadata": {},
   "outputs": [],
   "source": [
    "response_schemas = [\n",
    "    ResponseSchema(name=\"recipe_name\", description=\"The name of the recipe\"),\n",
    "    ResponseSchema(name=\"ingredients\", description=\"The ingredients for the recipe\"),\n",
    "    ResponseSchema(name=\"instructions\", description=\"The instructions for the recipe\"),\n",
    "]\n",
    "\n",
    "structured_parser = StructuredOutputParser.from_response_schemas(response_schemas)"
   ]
  },
  {
   "cell_type": "code",
   "execution_count": 43,
   "metadata": {},
   "outputs": [],
   "source": [
    "structured_instructions = structured_parser.get_format_instructions()\n",
    "\n",
    "prompt = PromptTemplate(\n",
    "    template=\"Tell me the recipe for making {food}.\\n{format_instructions}\",\n",
    "    input_variables=[\"food\"],\n",
    "    partial_variables={\"format_instructions\": structured_instructions},\n",
    ")\n",
    "\n",
    "chain = {\"food\": RunnablePassthrough()} | prompt | llm | structured_parser"
   ]
  },
  {
   "cell_type": "code",
   "execution_count": 44,
   "metadata": {},
   "outputs": [
    {
     "data": {
      "text/plain": [
       "{'recipe_name': 'Almond Cookies',\n",
       " 'ingredients': '1 cup almond flour, 1/4 cup sugar, 1/4 teaspoon salt, 1/4 teaspoon baking soda, 1/4 cup butter, 1/2 teaspoon almond extract, 1 egg',\n",
       " 'instructions': '1. Preheat oven to 350°F (175°C). 2. In a bowl, mix almond flour, sugar, salt, and baking soda. 3. Add butter, almond extract, and egg to the dry ingredients. Mix until well combined. 4. Roll the dough into small balls and flatten them on a baking sheet lined with parchment paper. 5. Bake for 10-12 minutes or until the edges are golden brown. 6. Let the cookies cool before serving.'}"
      ]
     },
     "execution_count": 44,
     "metadata": {},
     "output_type": "execute_result"
    }
   ],
   "source": [
    "chain.invoke(\"almond cookies\")"
   ]
  },
  {
   "cell_type": "markdown",
   "metadata": {},
   "source": [
    "## Dataframe Parser\n",
    "\n",
    "Note that this type of queries are limited to the type of questions. To perform extensive calculations, it is better to use an agent and database to perform the query."
   ]
  },
  {
   "cell_type": "code",
   "execution_count": 27,
   "metadata": {},
   "outputs": [
    {
     "data": {
      "text/html": [
       "<div>\n",
       "<style scoped>\n",
       "    .dataframe tbody tr th:only-of-type {\n",
       "        vertical-align: middle;\n",
       "    }\n",
       "\n",
       "    .dataframe tbody tr th {\n",
       "        vertical-align: top;\n",
       "    }\n",
       "\n",
       "    .dataframe thead th {\n",
       "        text-align: right;\n",
       "    }\n",
       "</style>\n",
       "<table border=\"1\" class=\"dataframe\">\n",
       "  <thead>\n",
       "    <tr style=\"text-align: right;\">\n",
       "      <th></th>\n",
       "      <th>CustomerID</th>\n",
       "      <th>OrderID</th>\n",
       "      <th>OrderDate</th>\n",
       "      <th>ProductName</th>\n",
       "      <th>Category</th>\n",
       "      <th>Quantity</th>\n",
       "      <th>UnitPrice</th>\n",
       "      <th>PaymentType</th>\n",
       "      <th>Country</th>\n",
       "      <th>TotalPrice</th>\n",
       "    </tr>\n",
       "  </thead>\n",
       "  <tbody>\n",
       "    <tr>\n",
       "      <th>0</th>\n",
       "      <td>1102</td>\n",
       "      <td>6579</td>\n",
       "      <td>2023-12-16 07:01:49.090909088</td>\n",
       "      <td>Headphones</td>\n",
       "      <td>Accessories</td>\n",
       "      <td>4</td>\n",
       "      <td>990.60</td>\n",
       "      <td>Credit Card</td>\n",
       "      <td>Australia</td>\n",
       "      <td>3962.40</td>\n",
       "    </tr>\n",
       "    <tr>\n",
       "      <th>1</th>\n",
       "      <td>1435</td>\n",
       "      <td>5161</td>\n",
       "      <td>2023-01-12 00:43:38.181818181</td>\n",
       "      <td>Tablet</td>\n",
       "      <td>Accessories</td>\n",
       "      <td>1</td>\n",
       "      <td>418.49</td>\n",
       "      <td>PayPal</td>\n",
       "      <td>UK</td>\n",
       "      <td>418.49</td>\n",
       "    </tr>\n",
       "    <tr>\n",
       "      <th>2</th>\n",
       "      <td>1860</td>\n",
       "      <td>5201</td>\n",
       "      <td>2023-12-08 22:32:43.636363636</td>\n",
       "      <td>Smartphone</td>\n",
       "      <td>Accessories</td>\n",
       "      <td>3</td>\n",
       "      <td>378.30</td>\n",
       "      <td>PayPal</td>\n",
       "      <td>USA</td>\n",
       "      <td>1134.90</td>\n",
       "    </tr>\n",
       "    <tr>\n",
       "      <th>3</th>\n",
       "      <td>1270</td>\n",
       "      <td>6981</td>\n",
       "      <td>2023-03-22 21:20:00.000000000</td>\n",
       "      <td>Tablet</td>\n",
       "      <td>Electronics</td>\n",
       "      <td>4</td>\n",
       "      <td>778.65</td>\n",
       "      <td>PayPal</td>\n",
       "      <td>USA</td>\n",
       "      <td>3114.60</td>\n",
       "    </tr>\n",
       "    <tr>\n",
       "      <th>4</th>\n",
       "      <td>1106</td>\n",
       "      <td>5995</td>\n",
       "      <td>2023-02-21 11:23:38.181818181</td>\n",
       "      <td>Tablet</td>\n",
       "      <td>Electronics</td>\n",
       "      <td>1</td>\n",
       "      <td>347.40</td>\n",
       "      <td>PayPal</td>\n",
       "      <td>France</td>\n",
       "      <td>347.40</td>\n",
       "    </tr>\n",
       "  </tbody>\n",
       "</table>\n",
       "</div>"
      ],
      "text/plain": [
       "   CustomerID  OrderID                     OrderDate ProductName     Category  \\\n",
       "0        1102     6579 2023-12-16 07:01:49.090909088  Headphones  Accessories   \n",
       "1        1435     5161 2023-01-12 00:43:38.181818181      Tablet  Accessories   \n",
       "2        1860     5201 2023-12-08 22:32:43.636363636  Smartphone  Accessories   \n",
       "3        1270     6981 2023-03-22 21:20:00.000000000      Tablet  Electronics   \n",
       "4        1106     5995 2023-02-21 11:23:38.181818181      Tablet  Electronics   \n",
       "\n",
       "   Quantity  UnitPrice  PaymentType    Country  TotalPrice  \n",
       "0         4     990.60  Credit Card  Australia     3962.40  \n",
       "1         1     418.49       PayPal         UK      418.49  \n",
       "2         3     378.30       PayPal        USA     1134.90  \n",
       "3         4     778.65       PayPal        USA     3114.60  \n",
       "4         1     347.40       PayPal     France      347.40  "
      ]
     },
     "execution_count": 27,
     "metadata": {},
     "output_type": "execute_result"
    }
   ],
   "source": [
    "import pandas as pd\n",
    "import numpy as np\n",
    "\n",
    "np.random.seed(42)\n",
    "\n",
    "# Sample data generation\n",
    "n_rows = 100  # Number of rows in the DataFrame\n",
    "date_range = pd.date_range(start=\"2023-01-01\", end=\"2023-12-31\", periods=n_rows)\n",
    "products = ['Laptop', 'Smartphone', 'Tablet', 'Headphones', 'Charger', 'Camera']\n",
    "categories = ['Electronics', 'Accessories']\n",
    "payment_types = ['Credit Card', 'PayPal', 'Bank Transfer']\n",
    "countries = ['USA', 'Canada', 'UK', 'Germany', 'France', 'Australia']\n",
    "\n",
    "# Creating the DataFrame\n",
    "df = pd.DataFrame({\n",
    "    'CustomerID': np.random.randint(1000, 2000, size=n_rows),\n",
    "    'OrderID': np.random.randint(5000, 7000, size=n_rows),\n",
    "    'OrderDate': np.random.choice(date_range, size=n_rows),\n",
    "    'ProductName': np.random.choice(products, size=n_rows),\n",
    "    'Category': np.random.choice(categories, n_rows, p=[0.8, 0.2]),\n",
    "    'Quantity': np.random.randint(1, 5, size=n_rows),\n",
    "    'UnitPrice': np.random.uniform(10, 1000, size=n_rows).round(2),\n",
    "    'PaymentType': np.random.choice(payment_types, size=n_rows),\n",
    "    'Country': np.random.choice(countries, size=n_rows)\n",
    "})\n",
    "\n",
    "df['TotalPrice'] = df['Quantity'] * df['UnitPrice']\n",
    "\n",
    "# Displaying the first few rows of the DataFrame\n",
    "df.head()"
   ]
  },
  {
   "cell_type": "code",
   "execution_count": 31,
   "metadata": {},
   "outputs": [],
   "source": [
    "df_parser = PandasDataFrameOutputParser(dataframe=df)\n",
    "df_instructions = df_parser.get_format_instructions()\n",
    "\n",
    "prompt = PromptTemplate(\n",
    "    template=\"\"\"Answer the user's question about the dataset.\n",
    "\n",
    "    # Format instructions\n",
    "    {format_instructions}\n",
    "    \n",
    "    # User's question\n",
    "    {query}\"\"\",\n",
    "    input_variables=[\"query\"],\n",
    "    partial_variables={\"format_instructions\": df_instructions}\n",
    ")\n",
    "\n",
    "chain = {\"query\": RunnablePassthrough()} | prompt | llm | df_parser"
   ]
  },
  {
   "cell_type": "code",
   "execution_count": 40,
   "metadata": {},
   "outputs": [
    {
     "data": {
      "text/plain": [
       "{'mean': 2.66}"
      ]
     },
     "execution_count": 40,
     "metadata": {},
     "output_type": "execute_result"
    }
   ],
   "source": [
    "chain.invoke(\"Retrieve the average from quantity column from all row 1 to 50.\")"
   ]
  },
  {
   "cell_type": "markdown",
   "metadata": {},
   "source": [
    "### OpenAI Functions"
   ]
  },
  {
   "cell_type": "code",
   "execution_count": 64,
   "metadata": {},
   "outputs": [],
   "source": [
    "from langchain_core.utils.function_calling import convert_pydantic_to_openai_function\n",
    "\n",
    "class Job(BaseModel):\n",
    "    job_name : str = Field(description=\"The name of the job\")\n",
    "    job_scope: str = Field(description=\"The job scope for this job\")\n",
    "    skills: List[str] = Field(description=\"The recommended skills for this job\")\n",
    "\n",
    "openai_function_1 = [convert_pydantic_to_openai_function(Job)]"
   ]
  },
  {
   "cell_type": "code",
   "execution_count": 65,
   "metadata": {},
   "outputs": [],
   "source": [
    "prompt = PromptTemplate(\n",
    "    template=\"\"\"Provide job details for {job}.\n",
    "\n",
    "    # Format instructions\n",
    "    {format_instructions}\"\"\",\n",
    "    input_variables=[\"job\"],\n",
    "    partial_variables={\"format_instructions\": df_instructions}\n",
    ")\n",
    "\n",
    "# JsonOutputFunctionsParser: Returns the arguments of the function call as JSON\n",
    "json_function_parser = JsonOutputFunctionsParser()\n",
    "\n",
    "chain = {\"job\": RunnablePassthrough()} | prompt | llm.bind(functions=openai_function_1) | json_function_parser"
   ]
  },
  {
   "cell_type": "code",
   "execution_count": 57,
   "metadata": {},
   "outputs": [
    {
     "data": {
      "text/plain": [
       "{'job_name': 'AI Engineer',\n",
       " 'job_scope': 'Developing AI models for various applications',\n",
       " 'skills': ['Machine Learning',\n",
       "  'Deep Learning',\n",
       "  'Python',\n",
       "  'Data Analysis',\n",
       "  'TensorFlow',\n",
       "  'PyTorch']}"
      ]
     },
     "execution_count": 57,
     "metadata": {},
     "output_type": "execute_result"
    }
   ],
   "source": [
    "chain.invoke(\"ai engineer\")"
   ]
  },
  {
   "cell_type": "code",
   "execution_count": 62,
   "metadata": {},
   "outputs": [],
   "source": [
    "# JsonKeyOutputFunctionsParser: Returns the value of specific key in the function call as JSON\n",
    "json_key_function_parser = JsonKeyOutputFunctionsParser(key_name=\"skills\")"
   ]
  },
  {
   "cell_type": "code",
   "execution_count": 59,
   "metadata": {},
   "outputs": [],
   "source": [
    "openai_function_2 = [convert_pydantic_to_openai_function(Job)]\n",
    "\n",
    "chain = {\"job\": RunnablePassthrough()} | prompt | llm.bind(functions=openai_function_2) | json_key_function_parser"
   ]
  },
  {
   "cell_type": "code",
   "execution_count": 60,
   "metadata": {},
   "outputs": [
    {
     "data": {
      "text/plain": [
       "['Python programming',\n",
       " 'Machine Learning',\n",
       " 'Deep Learning',\n",
       " 'Natural Language Processing',\n",
       " 'Computer Vision']"
      ]
     },
     "execution_count": 60,
     "metadata": {},
     "output_type": "execute_result"
    }
   ],
   "source": [
    "chain.invoke(\"ai engineer\")"
   ]
  },
  {
   "cell_type": "code",
   "execution_count": 71,
   "metadata": {},
   "outputs": [],
   "source": [
    "# For validation checks, we can use PydanticOutputFunctionsParser instead\n",
    "# PydanticOutputFunctionsParser: Returns the arguments of the function call as a Pydantic Model\n",
    "class Job(BaseModel):\n",
    "    job_name : str = Field(description=\"The name of the job\")\n",
    "    job_scope: str = Field(description=\"The job scope for this job\")\n",
    "    skills: List[str] = Field(description=\"The top 5 skills for this job\")\n",
    "    @validator('skills')\n",
    "    def skills_length(cls, field):\n",
    "        if len(field) > 5 or len(field) < 5:\n",
    "            raise ValueError('skills should have at exactly 5 items')\n",
    "        return field\n",
    "    \n",
    "pydantic_parser = PydanticOutputFunctionsParser(pydantic_schema=Job)"
   ]
  },
  {
   "cell_type": "code",
   "execution_count": 72,
   "metadata": {},
   "outputs": [],
   "source": [
    "openai_function_3 = [convert_pydantic_to_openai_function(Job)]\n",
    "chain = {\"job\": RunnablePassthrough()} | prompt | llm.bind(functions=openai_function_3) | pydantic_parser"
   ]
  },
  {
   "cell_type": "code",
   "execution_count": 69,
   "metadata": {},
   "outputs": [
    {
     "data": {
      "text/plain": [
       "Job(job_name='data scientist', job_scope='analyze and interpret complex data', skills=['python', 'machine learning', 'statistics', 'data visualization', 'communication skills'])"
      ]
     },
     "execution_count": 69,
     "metadata": {},
     "output_type": "execute_result"
    }
   ],
   "source": [
    "chain.invoke(\"data scientist\")"
   ]
  },
  {
   "cell_type": "code",
   "execution_count": 73,
   "metadata": {},
   "outputs": [],
   "source": [
    "# PydanticAttrOutputFunctionsParser: Returns the value of specific key in the function call as a Pydantic Model\n",
    "pydantic_key_parser = PydanticAttrOutputFunctionsParser(pydantic_schema=Job, attr_name=\"skills\")\n",
    "\n",
    "openai_function_4 = [convert_pydantic_to_openai_function(Job)]\n",
    "chain = {\"job\": RunnablePassthrough()} | prompt | llm.bind(functions=openai_function_4) | pydantic_key_parser"
   ]
  },
  {
   "cell_type": "code",
   "execution_count": 74,
   "metadata": {},
   "outputs": [
    {
     "data": {
      "text/plain": [
       "['Python',\n",
       " 'R',\n",
       " 'Machine Learning',\n",
       " 'Data Visualization',\n",
       " 'Statistical Analysis']"
      ]
     },
     "execution_count": 74,
     "metadata": {},
     "output_type": "execute_result"
    }
   ],
   "source": [
    "chain.invoke(\"data scientist\")"
   ]
  },
  {
   "cell_type": "code",
   "execution_count": null,
   "metadata": {},
   "outputs": [],
   "source": []
  }
 ],
 "metadata": {
  "kernelspec": {
   "display_name": ".venv",
   "language": "python",
   "name": "python3"
  },
  "language_info": {
   "codemirror_mode": {
    "name": "ipython",
    "version": 3
   },
   "file_extension": ".py",
   "mimetype": "text/x-python",
   "name": "python",
   "nbconvert_exporter": "python",
   "pygments_lexer": "ipython3",
   "version": "3.11.7"
  }
 },
 "nbformat": 4,
 "nbformat_minor": 2
}
