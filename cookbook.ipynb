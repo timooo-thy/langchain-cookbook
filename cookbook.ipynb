{
 "cells": [
  {
   "cell_type": "code",
   "execution_count": 114,
   "metadata": {},
   "outputs": [
    {
     "data": {
      "text/plain": [
       "True"
      ]
     },
     "execution_count": 114,
     "metadata": {},
     "output_type": "execute_result"
    }
   ],
   "source": [
    "from langchain_openai import ChatOpenAI\n",
    "from dotenv import load_dotenv\n",
    "load_dotenv()"
   ]
  },
  {
   "cell_type": "code",
   "execution_count": 10,
   "metadata": {},
   "outputs": [],
   "source": [
    "llm=ChatOpenAI()"
   ]
  },
  {
   "cell_type": "code",
   "execution_count": 11,
   "metadata": {},
   "outputs": [
    {
     "data": {
      "text/plain": [
       "AIMessage(content='Langsmith is a surname of English origin. It is derived from the Old English words \"lang,\" meaning long, and \"smith,\" meaning someone who works with metal. This surname was likely given to someone who was a blacksmith or who worked with metal in some way.')"
      ]
     },
     "execution_count": 11,
     "metadata": {},
     "output_type": "execute_result"
    }
   ],
   "source": [
    "llm.invoke(\"What is langsmith?\")"
   ]
  },
  {
   "cell_type": "code",
   "execution_count": 18,
   "metadata": {},
   "outputs": [],
   "source": [
    "from langchain_core.prompts import ChatPromptTemplate\n",
    "from langchain_core.messages import AIMessage, HumanMessage\n",
    "\n",
    "# Prompt template with HumanMessage and AIMessage\n",
    "prompt = ChatPromptTemplate.from_messages([\n",
    "    HumanMessage(content=\"What is langchain?\"),\n",
    "    AIMessage(content=\"Langchain is a platform for building and deploying language models.\"),\n",
    "    HumanMessage(content=\"{input}\")\n",
    "])"
   ]
  },
  {
   "cell_type": "code",
   "execution_count": 19,
   "metadata": {},
   "outputs": [
    {
     "data": {
      "text/plain": [
       "AIMessage(content='I\\'m sorry, but I do not have any additional information on \"langchain\" as it appears to be a made-up term or a very niche topic with limited publicly available information. If you have more context or details about what you are referring to, I would be happy to try to provide more assistance.')"
      ]
     },
     "execution_count": 19,
     "metadata": {},
     "output_type": "execute_result"
    }
   ],
   "source": [
    "chain = prompt | llm\n",
    "chain.invoke({\"input\":\"Tell me more about it.\"})"
   ]
  },
  {
   "cell_type": "code",
   "execution_count": 20,
   "metadata": {},
   "outputs": [],
   "source": [
    "from langchain_core.output_parsers import StrOutputParser\n",
    "\n",
    "# String output parser\n",
    "output_parser = StrOutputParser()"
   ]
  },
  {
   "cell_type": "code",
   "execution_count": 21,
   "metadata": {},
   "outputs": [
    {
     "data": {
      "text/plain": [
       "'Langchain is a decentralized blockchain-based platform that aims to revolutionize the language industry by providing a secure and transparent ecosystem for language learning, translation, and communication. It leverages blockchain technology to create a decentralized marketplace where users can buy and sell language-related services, such as translation, interpretation, and language tutoring, without the need for intermediaries. The platform also features a token economy that incentivizes users to contribute to the community and rewards them for their participation. Overall, Langchain aims to make language learning and communication more accessible, efficient, and secure for people around the world.'"
      ]
     },
     "execution_count": 21,
     "metadata": {},
     "output_type": "execute_result"
    }
   ],
   "source": [
    "# Chain with prompt, llm and output_parser\n",
    "chain = prompt | llm | output_parser\n",
    "chain.invoke({\"input\":\"Tell me more about it.\"})"
   ]
  },
  {
   "cell_type": "code",
   "execution_count": 22,
   "metadata": {},
   "outputs": [
    {
     "name": "stdout",
     "output_type": "stream",
     "text": [
      "I'm sorry, but I don't have any specific information on \"langchain\" as it seems to be a relatively unknown term or concept. If you have any further context or details about what you are referring to, I would be happy to try to provide more information or assistance."
     ]
    }
   ],
   "source": [
    "# Streaming output\n",
    "for chunk in chain.stream({\"input\":\"Tell me more about it.\"}):\n",
    "    print(chunk, end=\"\", flush=True)"
   ]
  },
  {
   "cell_type": "code",
   "execution_count": 62,
   "metadata": {},
   "outputs": [],
   "source": [
    "from langchain_community.document_loaders import WebBaseLoader\n",
    "loader = WebBaseLoader(\"https://docs.smith.langchain.com\")\n",
    "docs = loader.load()"
   ]
  },
  {
   "cell_type": "code",
   "execution_count": 63,
   "metadata": {},
   "outputs": [],
   "source": [
    "from langchain_openai import OpenAIEmbeddings\n",
    "embeddings = OpenAIEmbeddings()"
   ]
  },
  {
   "cell_type": "code",
   "execution_count": 82,
   "metadata": {},
   "outputs": [],
   "source": [
    "from langchain_community.vectorstores import Chroma\n",
    "from langchain.text_splitter import RecursiveCharacterTextSplitter\n",
    "\n",
    "text_splitter = RecursiveCharacterTextSplitter(chunk_size=200, chunk_overlap=20)\n",
    "documents = text_splitter.split_documents(docs)\n",
    "vector = Chroma.from_documents(documents, embeddings)"
   ]
  },
  {
   "cell_type": "code",
   "execution_count": 94,
   "metadata": {},
   "outputs": [],
   "source": [
    "from langchain.chains.combine_documents import create_stuff_documents_chain\n",
    "\n",
    "prompt = ChatPromptTemplate.from_template(\"\"\"Answer the following question based only on the provided context:\n",
    "                                          <context>\n",
    "                                          {context}\n",
    "                                          </context>\n",
    "                                          Question: {input}\"\"\")\n",
    "\n",
    "document_chain = create_stuff_documents_chain(llm, prompt)"
   ]
  },
  {
   "cell_type": "code",
   "execution_count": 95,
   "metadata": {},
   "outputs": [],
   "source": [
    "from langchain.chains import create_retrieval_chain\n",
    "\n",
    "# Retrieve k relevant documents\n",
    "retriever = vector.as_retriever(search_kwargs={\"k\": 2})\n",
    "retrieval_chain = create_retrieval_chain(retriever, document_chain)"
   ]
  },
  {
   "cell_type": "code",
   "execution_count": 86,
   "metadata": {},
   "outputs": [
    {
     "name": "stdout",
     "output_type": "stream",
     "text": [
      "Langchain is a library available in both Python and JavaScript that provides documentation for the core APIs of LangChain. It appears to be a tool for language processing and manipulation.\n"
     ]
    }
   ],
   "source": [
    "response = retrieval_chain.invoke({\"input\": \"Tell me more about langchain?\"})\n",
    "print(response['answer'])"
   ]
  },
  {
   "cell_type": "code",
   "execution_count": 110,
   "metadata": {},
   "outputs": [],
   "source": [
    "from langchain.chains import create_history_aware_retriever\n",
    "from langchain_core.prompts import MessagesPlaceholder\n",
    "\n",
    "prompt = ChatPromptTemplate.from_messages([\n",
    "    MessagesPlaceholder(variable_name=\"chat_history\"),\n",
    "    (\"user\", \"{input}\"),\n",
    "    (\"user\", \"Given the above conversation, generate a search query to look up in order to get information relevant to the conversation\")\n",
    "])\n",
    "\n",
    "retriever_chain = create_history_aware_retriever(llm, retriever, prompt)"
   ]
  },
  {
   "cell_type": "code",
   "execution_count": 105,
   "metadata": {},
   "outputs": [
    {
     "data": {
      "text/plain": [
       "[Document(page_content='Get started with the evaluation quick start.Next Steps\\u200bCheck out the following sections to learn more about LangSmith:User Guide: Learn about the workflows LangSmith supports at each stage of the LLM', metadata={'description': 'Introduction', 'language': 'en', 'source': 'https://docs.smith.langchain.com', 'title': 'LangSmith | 🦜️🛠️ LangSmith'}),\n",
       " Document(page_content='Get started with the evaluation quick start.Next Steps\\u200bCheck out the following sections to learn more about LangSmith:User Guide: Learn about the workflows LangSmith supports at each stage of the LLM', metadata={'description': 'Introduction', 'language': 'en', 'source': 'https://docs.smith.langchain.com', 'title': 'LangSmith | 🦜️🛠️ LangSmith'})]"
      ]
     },
     "execution_count": 105,
     "metadata": {},
     "output_type": "execute_result"
    }
   ],
   "source": [
    "chat_history = [\n",
    "    HumanMessage(content=\"Can LangSmith help test my LLM applications?\"),\n",
    "    AIMessage(content=\"Yes\")\n",
    "]\n",
    "retriever_chain.invoke({\"chat_history\": chat_history, \"input\": \"Tell me step by step.\"})"
   ]
  },
  {
   "cell_type": "code",
   "execution_count": 111,
   "metadata": {},
   "outputs": [
    {
     "name": "stdout",
     "output_type": "stream",
     "text": [
      "I'm sorry for any confusion, but based on the provided context, I can only see the name \"LangSmith | 🦜️🛠️ LangSmith.\" I do not have any specific information about the services or capabilities of LangSmith. It would be best to reach out directly to LangSmith to inquire about their ability to help test your LLM applications and to get detailed step-by-step instructions on how to proceed.\n"
     ]
    }
   ],
   "source": [
    "prompt = ChatPromptTemplate.from_messages([\n",
    "    (\"system\", \"Answer the following question based only on the provided context:\\n\\n{context}\"),\n",
    "    MessagesPlaceholder(variable_name=\"chat_history\"),\n",
    "    (\"user\", \"{input}\")\n",
    "])\n",
    "\n",
    "document_chain = create_stuff_documents_chain(llm, prompt)\n",
    "retrieval_chain = create_retrieval_chain(retriever_chain, document_chain)\n",
    "response = retrieval_chain.invoke({\"chat_history\": chat_history, \"input\": \"Tell me step by step.\"})\n",
    "print(response['answer'])"
   ]
  },
  {
   "cell_type": "code",
   "execution_count": 112,
   "metadata": {},
   "outputs": [],
   "source": [
    "from langchain.tools.retriever import create_retriever_tool\n",
    "retreiver_tool = create_retriever_tool(retriever, \"langsmith_search\", \"Search for information relevant to Langsmith. For any questions about LangSmith, you must use this tool!\")"
   ]
  },
  {
   "cell_type": "code",
   "execution_count": 115,
   "metadata": {},
   "outputs": [],
   "source": [
    "from langchain_community.tools.tavily_search import TavilySearchResults\n",
    "\n",
    "search = TavilySearchResults()"
   ]
  },
  {
   "cell_type": "code",
   "execution_count": 122,
   "metadata": {},
   "outputs": [
    {
     "data": {
      "text/plain": [
       "ChatPromptTemplate(input_variables=['agent_scratchpad', 'input'], input_types={'chat_history': typing.List[typing.Union[langchain_core.messages.ai.AIMessage, langchain_core.messages.human.HumanMessage, langchain_core.messages.chat.ChatMessage, langchain_core.messages.system.SystemMessage, langchain_core.messages.function.FunctionMessage, langchain_core.messages.tool.ToolMessage]], 'agent_scratchpad': typing.List[typing.Union[langchain_core.messages.ai.AIMessage, langchain_core.messages.human.HumanMessage, langchain_core.messages.chat.ChatMessage, langchain_core.messages.system.SystemMessage, langchain_core.messages.function.FunctionMessage, langchain_core.messages.tool.ToolMessage]]}, messages=[SystemMessagePromptTemplate(prompt=PromptTemplate(input_variables=[], template='You are a helpful assistant')), MessagesPlaceholder(variable_name='chat_history', optional=True), HumanMessagePromptTemplate(prompt=PromptTemplate(input_variables=['input'], template='{input}')), MessagesPlaceholder(variable_name='agent_scratchpad')])"
      ]
     },
     "execution_count": 122,
     "metadata": {},
     "output_type": "execute_result"
    }
   ],
   "source": [
    "tools = [retreiver_tool, search]\n",
    "\n",
    "from langchain import hub\n",
    "from langchain.agents import create_openai_functions_agent\n",
    "from langchain.agents import AgentExecutor\n",
    "\n",
    "prompt = hub.pull(\"hwchase17/openai-functions-agent\")\n",
    "agent = create_openai_functions_agent(llm, tools, prompt)\n",
    "agent_executor = AgentExecutor(agent=agent, tools=tools, verbose=True)"
   ]
  },
  {
   "cell_type": "code",
   "execution_count": 119,
   "metadata": {},
   "outputs": [
    {
     "name": "stdout",
     "output_type": "stream",
     "text": [
      "\n",
      "\n",
      "\u001b[1m> Entering new AgentExecutor chain...\u001b[0m\n",
      "\u001b[32;1m\u001b[1;3m\n",
      "Invoking: `langsmith_search` with `{'query': 'What can LangSmith help with testing?'}`\n",
      "\n",
      "\n",
      "\u001b[0m\u001b[36;1m\u001b[1;3mLangSmith | 🦜️🛠️ LangSmith\n",
      "\n",
      "LangSmith | 🦜️🛠️ LangSmith\u001b[0m\u001b[32;1m\u001b[1;3mLangSmith can help with testing. If you have specific questions or need more information about how LangSmith can help with testing, feel free to ask!\u001b[0m\n",
      "\n",
      "\u001b[1m> Finished chain.\u001b[0m\n"
     ]
    },
    {
     "data": {
      "text/plain": [
       "{'input': 'What can langsmith help with testing?',\n",
       " 'output': 'LangSmith can help with testing. If you have specific questions or need more information about how LangSmith can help with testing, feel free to ask!'}"
      ]
     },
     "execution_count": 119,
     "metadata": {},
     "output_type": "execute_result"
    }
   ],
   "source": [
    "agent_executor.invoke({\"input\": \"What can langsmith help with testing?\"})"
   ]
  },
  {
   "cell_type": "code",
   "execution_count": 121,
   "metadata": {},
   "outputs": [
    {
     "name": "stdout",
     "output_type": "stream",
     "text": [
      "\n",
      "\n",
      "\u001b[1m> Entering new AgentExecutor chain...\u001b[0m\n",
      "\u001b[32;1m\u001b[1;3m\n",
      "Invoking: `tavily_search_results_json` with `{'query': 'weather in Singapore today'}`\n",
      "\n",
      "\n",
      "\u001b[0m\u001b[33;1m\u001b[1;3m[{'url': 'https://www.weatherapi.com/', 'content': \"Weather in Singapore is {'location': {'name': 'Singapore', 'region': '', 'country': 'Singapore', 'lat': 1.29, 'lon': 103.86, 'tz_id': 'Asia/Singapore', 'localtime_epoch': 1708785995, 'localtime': '2024-02-24 22:46'}, 'current': {'last_updated_epoch': 1708785900, 'last_updated': '2024-02-24 22:45', 'temp_c': 27.0, 'temp_f': 80.6, 'is_day': 0, 'condition': {'text': 'Partly cloudy', 'icon': '//cdn.weatherapi.com/weather/64x64/night/116.png', 'code': 1003}, 'wind_mph': 9.4, 'wind_kph': 15.1, 'wind_degree': 30, 'wind_dir': 'NNE', 'pressure_mb': 1011.0, 'pressure_in': 29.85, 'precip_mm': 0.0, 'precip_in': 0.0, 'humidity': 79, 'cloud': 75, 'feelslike_c': 30.4, 'feelslike_f': 86.6, 'vis_km': 10.0, 'vis_miles': 6.0, 'uv': 1.0, 'gust_mph': 19.8, 'gust_kph': 31.9}}\"}, {'url': 'https://world-weather.info/forecast/singapore/singapore/february-2024/', 'content': \"Singapore Weather Forecast for February 2024 is based on long term prognosis and previous years' statistical data. 2015 2016 2017 2018 2019 2020 2021 2022 2023 2024 2025 Jan Feb Mar Apr May Jun Jul Aug Sep Oct Nov Dec February Start Week On Sunday Monday Sun Mon Tue Wed Thu Fri Sat 1 +86° +81° 2 +86° +81° 3 +88° +81° 4 +88° +79° 5 +90° +81° 6 +90°\"}, {'url': 'https://www.weather25.com/asia/singapore?page=month&month=February', 'content': 'Singapore weather in February 2024 The weather in Singapore in February is very hot. The average temperatures are between 25°C and 31°C, drinking water regularly is advisable. You can expect rain for roughly half of the month of February in Singapore.'}, {'url': 'https://www.holiday-weather.com/singapore/february/2024/', 'content': '31 °C 88 °F Low Temperature What is Average High Low Temperature? The sum of high temperatures/low temperatures divided by the number of days in that month, recorded daily 24 °C 75 °F Day Temperature What is Average Day Temperature? The average temperature recorded between sunrise and sunset 28 °C 83 °F Night Temperature'}, {'url': 'https://weatherspark.com/h/y/114655/2024/Historical-Weather-during-2024-in-Singapore', 'content': 'Singapore Temperature History 2024\\nHourly Temperature in 2024 in Singapore\\nCompare Singapore to another city:\\nCloud Cover in 2024 in Singapore\\nObserved Weather in 2024 in Singapore\\nHours of Daylight and Twilight in 2024 in Singapore\\nSunrise & Sunset with Twilight in 2024 in Singapore\\nSolar Elevation and Azimuth in 2024 in Singapore\\nMoon Rise, Set & Phases in 2024 in Singapore\\nHumidity Comfort Levels in 2024 in Singapore\\nWind Speed in 2024 in Singapore\\nHourly Wind Speed in 2024 in Singapore\\nHourly Wind Direction in 2024 in Singapore\\nAtmospheric Pressure in 2024 in Singapore\\nData Sources\\n 81°F\\nPrecipitation\\nNo Report\\nWind\\n5.8 mph\\nCloud Cover\\nMostly Cloudy\\n28,000 ft\\nRaw: WSSS 140030Z 34005KT 9999 FEW016 SCT160 BKN280 27/24 Q1011 NOSIG\\n While having the tremendous advantages of temporal and spatial completeness, these reconstructions: (1) are based on computer models that may have model-based errors, (2) are coarsely sampled on a 50 km grid and are therefore unable to reconstruct the local variations of many microclimates, and (3) have particular difficulty with the weather in some coastal areas, especially small islands.\\n We further caution that our travel scores are only as good as the data that underpin them, that weather conditions at any given location and time are unpredictable and variable, and that the definition of the scores reflects a particular set of preferences that may not agree with those of any particular reader.\\n See all nearby weather stations\\nLatest Report — 8:30 AM\\nSun, Jan 14, 2024\\xa0\\xa0\\xa0\\xa023 min ago\\xa0\\xa0\\xa0\\xa0UTC 00:30\\nCall Sign WSSS\\nTemp.\\n'}]\u001b[0m\u001b[32;1m\u001b[1;3mThe weather in Singapore today is partly cloudy with a temperature of 27.0°C (80.6°F). The wind is coming from the north-northeast at 15.1 km/h (9.4 mph), and the humidity is at 79%.\u001b[0m\n",
      "\n",
      "\u001b[1m> Finished chain.\u001b[0m\n"
     ]
    },
    {
     "data": {
      "text/plain": [
       "{'input': 'what is the weather like today in singapore ?',\n",
       " 'output': 'The weather in Singapore today is partly cloudy with a temperature of 27.0°C (80.6°F). The wind is coming from the north-northeast at 15.1 km/h (9.4 mph), and the humidity is at 79%.'}"
      ]
     },
     "execution_count": 121,
     "metadata": {},
     "output_type": "execute_result"
    }
   ],
   "source": [
    "agent_executor.invoke({\"input\": \"what is the weather like today in singapore ?\"})"
   ]
  },
  {
   "cell_type": "code",
   "execution_count": null,
   "metadata": {},
   "outputs": [],
   "source": []
  }
 ],
 "metadata": {
  "kernelspec": {
   "display_name": "venv",
   "language": "python",
   "name": "python3"
  },
  "language_info": {
   "codemirror_mode": {
    "name": "ipython",
    "version": 3
   },
   "file_extension": ".py",
   "mimetype": "text/x-python",
   "name": "python",
   "nbconvert_exporter": "python",
   "pygments_lexer": "ipython3",
   "version": "3.11.7"
  }
 },
 "nbformat": 4,
 "nbformat_minor": 2
}
