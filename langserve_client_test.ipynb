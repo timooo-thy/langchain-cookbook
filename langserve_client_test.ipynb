{
 "cells": [
  {
   "cell_type": "code",
   "execution_count": 7,
   "metadata": {},
   "outputs": [],
   "source": [
    "from langchain.prompts.chat import ChatPromptTemplate\n",
    "from langserve import RemoteRunnable\n",
    "\n",
    "# Create an endpoint for the chatbot\n",
    "llm = RemoteRunnable(\"http://localhost:8000/openai/\")"
   ]
  },
  {
   "cell_type": "code",
   "execution_count": 10,
   "metadata": {},
   "outputs": [],
   "source": [
    "prompt = ChatPromptTemplate.from_messages(\n",
    "    [\n",
    "        (\n",
    "            \"system\",\n",
    "            \"You are a highly educated person who loves to use big words. \"\n",
    "            + \"You are also concise. Never answer in more than three sentences.\",\n",
    "        ),\n",
    "        (\"human\", \"Tell me about your favorite novel\"),\n",
    "    ]\n",
    ").format_messages()"
   ]
  },
  {
   "cell_type": "code",
   "execution_count": 23,
   "metadata": {},
   "outputs": [],
   "source": [
    "input = {\"input\":\"What are schools are mentioned?\"}"
   ]
  },
  {
   "cell_type": "code",
   "execution_count": 24,
   "metadata": {},
   "outputs": [
    {
     "data": {
      "text/plain": [
       "{'answer': 'The schools mentioned are:\\n1. Singapore University of Technology and Design\\n2. Singapore Institute of Technology\\n3. Singapore University of Social Sciences\\n4. Singapore Management University'}"
      ]
     },
     "execution_count": 24,
     "metadata": {},
     "output_type": "execute_result"
    }
   ],
   "source": [
    "# Asynchronous call to the model\n",
    "await llm.ainvoke(input)"
   ]
  },
  {
   "cell_type": "code",
   "execution_count": 26,
   "metadata": {},
   "outputs": [
    {
     "name": "stdout",
     "output_type": "stream",
     "text": [
      "The schools mentioned in the provided context are:\n",
      "1. Singapore University of Technology and Design\n",
      "2. Singapore Institute of Technology\n",
      "3. Singapore University of Social Sciences\n",
      "4. Singapore Management University"
     ]
    }
   ],
   "source": [
    "# Asynchronous stream of the model output\n",
    "async for chunk in llm.astream(input):\n",
    "    if 'answer' in chunk:\n",
    "        print(chunk['answer'], end=\"\", flush=True)"
   ]
  }
 ],
 "metadata": {
  "kernelspec": {
   "display_name": ".venv",
   "language": "python",
   "name": "python3"
  },
  "language_info": {
   "codemirror_mode": {
    "name": "ipython",
    "version": 3
   },
   "file_extension": ".py",
   "mimetype": "text/x-python",
   "name": "python",
   "nbconvert_exporter": "python",
   "pygments_lexer": "ipython3",
   "version": "3.11.7"
  }
 },
 "nbformat": 4,
 "nbformat_minor": 2
}
