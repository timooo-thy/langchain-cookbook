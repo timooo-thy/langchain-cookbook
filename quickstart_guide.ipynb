{
 "cells": [
  {
   "cell_type": "code",
   "execution_count": 14,
   "metadata": {},
   "outputs": [
    {
     "data": {
      "text/plain": [
       "True"
      ]
     },
     "execution_count": 14,
     "metadata": {},
     "output_type": "execute_result"
    }
   ],
   "source": [
    "from langchain_openai import ChatOpenAI\n",
    "from dotenv import load_dotenv\n",
    "import os\n",
    "load_dotenv()"
   ]
  },
  {
   "cell_type": "markdown",
   "metadata": {},
   "source": [
    "## Langchain Basics"
   ]
  },
  {
   "cell_type": "code",
   "execution_count": 15,
   "metadata": {},
   "outputs": [],
   "source": [
    "llm=ChatOpenAI()"
   ]
  },
  {
   "cell_type": "code",
   "execution_count": 11,
   "metadata": {},
   "outputs": [
    {
     "data": {
      "text/plain": [
       "AIMessage(content='Langsmith is a surname of English origin. It is derived from the Old English words \"lang,\" meaning long, and \"smith,\" meaning someone who works with metal. This surname was likely given to someone who was a blacksmith or who worked with metal in some way.')"
      ]
     },
     "execution_count": 11,
     "metadata": {},
     "output_type": "execute_result"
    }
   ],
   "source": [
    "llm.invoke(\"What is langsmith?\")"
   ]
  },
  {
   "cell_type": "code",
   "execution_count": 16,
   "metadata": {},
   "outputs": [],
   "source": [
    "from langchain_core.prompts import ChatPromptTemplate\n",
    "from langchain_core.messages import AIMessage, HumanMessage\n",
    "\n",
    "# Prompt template with HumanMessage and AIMessage\n",
    "prompt = ChatPromptTemplate.from_messages([\n",
    "    HumanMessage(content=\"What is langchain?\"),\n",
    "    AIMessage(content=\"Langchain is a platform for building and deploying language models.\"),\n",
    "    HumanMessage(content=\"{input}\")\n",
    "])"
   ]
  },
  {
   "cell_type": "code",
   "execution_count": 19,
   "metadata": {},
   "outputs": [
    {
     "data": {
      "text/plain": [
       "AIMessage(content='I\\'m sorry, but I do not have any additional information on \"langchain\" as it appears to be a made-up term or a very niche topic with limited publicly available information. If you have more context or details about what you are referring to, I would be happy to try to provide more assistance.')"
      ]
     },
     "execution_count": 19,
     "metadata": {},
     "output_type": "execute_result"
    }
   ],
   "source": [
    "chain = prompt | llm\n",
    "chain.invoke({\"input\":\"Tell me more about it.\"})"
   ]
  },
  {
   "cell_type": "code",
   "execution_count": 17,
   "metadata": {},
   "outputs": [],
   "source": [
    "from langchain_core.output_parsers import StrOutputParser\n",
    "\n",
    "# String output parser\n",
    "output_parser = StrOutputParser()"
   ]
  },
  {
   "cell_type": "code",
   "execution_count": 18,
   "metadata": {},
   "outputs": [
    {
     "data": {
      "text/plain": [
       "'Langchain is a decentralized platform that aims to provide a marketplace for language models and data, allowing developers and organizations to access and utilize a wide range of language processing capabilities. By leveraging blockchain technology, Langchain aims to create a secure and transparent ecosystem for language model development and deployment.'"
      ]
     },
     "execution_count": 18,
     "metadata": {},
     "output_type": "execute_result"
    }
   ],
   "source": [
    "# Chain with prompt, llm and output_parser\n",
    "chain = prompt | llm | output_parser\n",
    "chain.invoke({\"input\":\"Tell me more about it.\"})"
   ]
  },
  {
   "cell_type": "code",
   "execution_count": 19,
   "metadata": {},
   "outputs": [
    {
     "name": "stdout",
     "output_type": "stream",
     "text": [
      "Langchain is a decentralized protocol that enables the creation, trading, and utilization of language models on the blockchain. It aims to provide a secure and efficient way to access and share language models, allowing developers to easily integrate them into their applications. By leveraging blockchain technology, Langchain ensures the integrity of the models and enables transparent and trustless transactions."
     ]
    }
   ],
   "source": [
    "# Streaming output\n",
    "for chunk in chain.stream({\"input\":\"Tell me more about it.\"}):\n",
    "    print(chunk, end=\"\", flush=True)"
   ]
  },
  {
   "cell_type": "code",
   "execution_count": 20,
   "metadata": {},
   "outputs": [],
   "source": [
    "from langchain_community.document_loaders import WebBaseLoader\n",
    "loader = WebBaseLoader(\"https://docs.smith.langchain.com\")\n",
    "docs = loader.load()"
   ]
  },
  {
   "cell_type": "code",
   "execution_count": 21,
   "metadata": {},
   "outputs": [],
   "source": [
    "from langchain_openai import OpenAIEmbeddings\n",
    "embeddings = OpenAIEmbeddings()"
   ]
  },
  {
   "cell_type": "code",
   "execution_count": 22,
   "metadata": {},
   "outputs": [],
   "source": [
    "from langchain_community.vectorstores import Chroma\n",
    "from langchain.text_splitter import RecursiveCharacterTextSplitter\n",
    "\n",
    "text_splitter = RecursiveCharacterTextSplitter(chunk_size=200, chunk_overlap=20)\n",
    "documents = text_splitter.split_documents(docs)\n",
    "vector = Chroma.from_documents(documents, embeddings)"
   ]
  },
  {
   "cell_type": "code",
   "execution_count": 23,
   "metadata": {},
   "outputs": [],
   "source": [
    "from langchain.chains.combine_documents import create_stuff_documents_chain\n",
    "\n",
    "prompt = ChatPromptTemplate.from_template(\"\"\"Answer the following question based only on the provided context:\n",
    "                                          <context>\n",
    "                                          {context}\n",
    "                                          </context>\n",
    "                                          Question: {input}\"\"\")\n",
    "\n",
    "document_chain = create_stuff_documents_chain(llm, prompt)"
   ]
  },
  {
   "cell_type": "code",
   "execution_count": 24,
   "metadata": {},
   "outputs": [],
   "source": [
    "from langchain.chains import create_retrieval_chain\n",
    "\n",
    "# Retrieve k relevant documents\n",
    "retriever = vector.as_retriever(search_kwargs={\"k\": 2})\n",
    "retrieval_chain = create_retrieval_chain(retriever, document_chain)"
   ]
  },
  {
   "cell_type": "code",
   "execution_count": 25,
   "metadata": {},
   "outputs": [
    {
     "name": "stdout",
     "output_type": "stream",
     "text": [
      "LangChain is an open-source framework that allows users to build chains and intelligent agents. It provides tools for debugging, testing, evaluating, and monitoring projects built on any LLM framework. LangChain seamlessly integrates with LangSmith, which is a part of LangChain, and offers documentation such as LangChain Python Docs and LangChain JS Docs for developers to reference. LangChain is a go-to framework for building projects utilizing intelligent agents.\n"
     ]
    }
   ],
   "source": [
    "response = retrieval_chain.invoke({\"input\": \"Tell me more about langchain?\"})\n",
    "print(response['answer'])"
   ]
  },
  {
   "cell_type": "code",
   "execution_count": 94,
   "metadata": {},
   "outputs": [],
   "source": [
    "from langchain.chains import create_history_aware_retriever\n",
    "from langchain_core.prompts import MessagesPlaceholder\n",
    "\n",
    "prompt = ChatPromptTemplate.from_messages([\n",
    "    MessagesPlaceholder(variable_name=\"chat_history\"),\n",
    "    (\"user\", \"{input}\"),\n",
    "    (\"user\", \"Given the above conversation, generate a search query to look up in order to get information relevant to the conversation\")\n",
    "])\n",
    "\n",
    "retriever_chain = create_history_aware_retriever(llm, retriever, prompt)"
   ]
  },
  {
   "cell_type": "code",
   "execution_count": 95,
   "metadata": {},
   "outputs": [],
   "source": [
    "chat_history = [\n",
    "    HumanMessage(content=\"Can LangSmith help test my LLM applications?\"),\n",
    "    AIMessage(content=\"Yes\")\n",
    "]\n",
    "\n",
    "# retriever_chain.invoke({\"chat_history\": chat_history, \"input\": \"Tell me step by step.\"})"
   ]
  },
  {
   "cell_type": "code",
   "execution_count": 97,
   "metadata": {},
   "outputs": [
    {
     "name": "stdout",
     "output_type": "stream",
     "text": [
      "1. Utilize LangSmith, the developer platform, for debugging, testing, evaluating, and monitoring chains.\n",
      "2. Develop your LangChain chains using LangServe, a tool for deploying them as REST APIs.\n",
      "3. Integrate LangSmith into your development process to test your LLM applications effectively.\n",
      "4. Follow the comprehensive documentation provided for LangChain to ensure a thorough understanding of its various aspects.\n",
      "5. By following these steps, you can utilize LangSmith to test your LLM applications efficiently.\n"
     ]
    }
   ],
   "source": [
    "prompt = ChatPromptTemplate.from_messages([\n",
    "    (\"system\", \"Answer the following question based only on the provided context:\\n\\n{context}\"),\n",
    "    MessagesPlaceholder(variable_name=\"chat_history\"),\n",
    "    (\"user\", \"{input}\")\n",
    "])\n",
    "\n",
    "document_chain = create_stuff_documents_chain(llm, prompt)\n",
    "retrieval_chain = create_retrieval_chain(retriever_chain, document_chain)\n",
    "\n",
    "response = retrieval_chain.invoke({\"chat_history\":chat_history, \"input\": \"Im Timothy, Tell me step by step.\"})\n",
    "print(response['answer'])"
   ]
  },
  {
   "cell_type": "code",
   "execution_count": 14,
   "metadata": {},
   "outputs": [],
   "source": [
    "from langchain.tools.retriever import create_retriever_tool\n",
    "retreiver_tool = create_retriever_tool(retriever, \"langsmith_search\", \"Search for information relevant to Langsmith. For any questions about LangSmith, you must use this tool!\")"
   ]
  },
  {
   "cell_type": "code",
   "execution_count": 3,
   "metadata": {},
   "outputs": [],
   "source": [
    "from langchain_community.tools.tavily_search import TavilySearchResults\n",
    "\n",
    "search = TavilySearchResults()"
   ]
  },
  {
   "cell_type": "code",
   "execution_count": 8,
   "metadata": {},
   "outputs": [],
   "source": [
    "# tools = [retreiver_tool, search]\n",
    "tools = [search]\n",
    "\n",
    "from langchain import hub\n",
    "from langchain.agents import create_openai_functions_agent\n",
    "from langchain.agents import AgentExecutor\n",
    "\n",
    "prompt = hub.pull(\"hwchase17/openai-functions-agent\")\n",
    "agent = create_openai_functions_agent(llm, tools, prompt)\n",
    "agent_executor = AgentExecutor(agent=agent, tools=tools, verbose=True)"
   ]
  },
  {
   "cell_type": "code",
   "execution_count": 9,
   "metadata": {},
   "outputs": [
    {
     "data": {
      "text/plain": [
       "[SystemMessagePromptTemplate(prompt=PromptTemplate(input_variables=[], template='You are a helpful assistant')),\n",
       " MessagesPlaceholder(variable_name='chat_history', optional=True),\n",
       " HumanMessagePromptTemplate(prompt=PromptTemplate(input_variables=['input'], template='{input}')),\n",
       " MessagesPlaceholder(variable_name='agent_scratchpad')]"
      ]
     },
     "execution_count": 9,
     "metadata": {},
     "output_type": "execute_result"
    }
   ],
   "source": [
    "prompt.messages"
   ]
  },
  {
   "cell_type": "code",
   "execution_count": 13,
   "metadata": {},
   "outputs": [
    {
     "name": "stdout",
     "output_type": "stream",
     "text": [
      "\n",
      "\n",
      "\u001b[1m> Entering new AgentExecutor chain...\u001b[0m\n",
      "\u001b[32;1m\u001b[1;3m\n",
      "Invoking: `tavily_search_results_json` with `{'query': 'reasons why Singaporeans are not bringing their reusable boxes for takeout orders'}`\n",
      "\n",
      "\n",
      "\u001b[0m\u001b[36;1m\u001b[1;3m[{'url': 'https://www.todayonline.com/voices/bring-own-containers-take-away-food-instead-relying-plastic-and-styrofoam-containers', 'content': \"Try it now\\nVoices\\nAdvertisement\\nAdvertisement\\nUse own containers for takeaways, instead of relying on plastic and styrofoam boxes\\nEarlier this week, TODAY reader Chua Chye Wah called for greater efforts to discourage the use of styrofoam boxes used for takeaways in Singapore. Using more paper products can be one solution for certain uses, but what can people use to hold rubbish which often contains moist food waste?\\xa0JIMMY CHAN\\nIn the old days, we used old newspapers and placed a big leaf to wrap our food and carried tiffin carriers for soup-based food. Related topics\\nRead more of the latest in\\nAdvertisement\\nTrending\\nPopular\\nAdvertisement\\nStay in the know. This browser is no longer supported\\nWe know it's a hassle to switch browsers but we want your experience with TODAY to be fast, secure and the best it can possibly be.\\n LOY HJON\\nPeople should bring their tupperware and bring them back home to wash...it’s easy to bring your own, one just has to plan a bit more that’s all.\\xa0\"}, {'url': 'https://www.straitstimes.com/singapore/environment/nea-waste-less-plastic-tips-reusable-containers-bags-singapore', 'content': \"Main navigation\\nMain navigation\\nBRANDED CONTENT\\nBring your own takeaway containers, reusable shopping bags: She's proof you can cut plastic waste easily\\nWith Singapore's only landfill expected to be filled by 2035, NEA is calling on everyone to do their part to extend its lifespan\\nAt home, Ms Karen Kwek sorts the packaging from her purchases, washes out bottles, cans and other receptacles, sets the items aside and takes them to a recycling bin when she has a sizeable collection.\\n With the latest edition of its Say YES to Waste Less (SYTWL) campaign, which counts The Body Shop as one of the partners, the National Environment Agency hopes to persuade more people to minimise their food wastage, another large source of waste, and avoid disposables, like Ms Kwek.\\n The 47-year-old general manager of beauty brand The Body Shop Singapore says that her habits to reduce the amount of disposables she throws away, which include buying products with little to no packaging, have inspired her siblings and in-laws to curb waste in their households.\\n While the Government has announced and rolled out initiatives to tackle such waste – including requiring large supermarket chains to charge shoppers at least five cents for each disposable carrier bag that they take, from the middle of this year – people can do their part by cultivating greener habits too.\\n “You do need to put in a bit of work, and to communicate more, for example to the cashier or hawker that you have your own mug or container, but it’s worth it.”\\n\"}, {'url': 'https://www.eco-business.com/news/why-is-this-reusable-container-scheme-in-singapore-not-working/', 'content': 'Image: Eco-Business\\nThe Makanai Box concept, which was conceived with help from Japanese innovation consultancy DBIC, works like this: users sign up for the service using their mobile phones, choose the meal they want from a menu of reduced-priced (up to 25 per cent off) options from nearby restaurants, pick up their meal provided in a reusable lunch box, take the food away with them, and return the containers at designated collection points after washing them.\\n Related to this story\\nMost popular\\nB Corp-certified bottled water brand Aqua tops audit of Indonesia’s biggest plastic polluters\\nFormer environment journalist Audrey Tan returns to The Straits Times\\nCould hyperscale data centres be the key to achieving round-the-clock clean power in Asia?\\n One reason why the Makanai Box concept didn’t fly could be that people are unfamiliar with the Japanese name and custom, said Nakamura,\\xa0although the association with one of the world’s most coveted cuisines in a food-obsessed country shouldn’t have been much of a obstacle.\\n Emissions of planned Southeast Asia fossil fuels projects tracked by Malaysian watchdog\\nRenzo Guinto\\xa0joins Singapore institute\\xa0to explore links between health and climate in Asia\\nFeatured Events\\nGeo Connect Asia\\nChina Supply Chain Carbon Neutrality Summit 2024\\nGRI Standards Certified Training Course\\nIFRS-Approved Integrated Reporting Training Course\\n2nd According to\\xa0Junichiro “John” Yamashita, DNP’s lead researcher for advanced technologies, who led the TFSG project, about 400 consumers participated in the recycling project, 80 people received free reuseable flasks, and users posted about recycling single-use cups on the website or in social media seven times.\\n'}, {'url': 'https://vulcanpost.com/717719/reusable-containers-food-delivery-singapore/', 'content': 'MORE FROM\\nVULCAN POST\\nNews Reader\\nPinned Post\\nNews Reader\\nOpinions\\nPinned Post\\nNews Reader\\nStartups\\nFunding\\nInternational\\nEdition\\nVulcan Post aims to be the knowledge hub of Singapore and Malaysia.\\n Furthermore, both customers and the restaurants have to make an effort to wash the containers, which might be a hassle for establishments who already face manpower shortages and the like.\\nSingaporeans Love Convenience\\nThe demand for convenience in Singapore is ever-rising.\\n Account\\nWhy Reusable Containers For Food Delivery Won’t Make Much Impact In Reducing Plastic Waste\\nThe Covid-19 pandemic has derailed the efforts of environmentalists and green lovers to reduce plastic waste.\\n Ltd.(UEN 201431998C.)\\nInternational\\nEdition\\nSingapore\\nEdition\\nMalaysia\\nEdition Ltd.(UEN 201431998C.)\\nInternational\\nEdition\\nVulcan Post aims to be the knowledge hub of Singapore and Malaysia.\\n'}, {'url': 'https://www.wwf.sg/wwf-singapores-pilot-initiative-shows-consumers-willingness-to-opt-for-reusable-e-commerce-packaging-with-a-return-rate-greater-than-50-per-cent/', 'content': 'SINGAPORE, 11 April 2023 - WWF-Singapore (World Wide Fund for Nature Singapore) today announced its findings from a pilot initiative designed to reduce e-commerce packaging waste in Singapore. Out of the 15,000 customer orders processed during the six months pilot, one in three customers chose to use reusable packaging for their online purchases when given […]'}]\u001b[0m\u001b[32;1m\u001b[1;3mI found some information on why Singaporeans may not be bringing their reusable boxes for takeout orders:\n",
      "\n",
      "1. Some Singaporeans may prefer the convenience of using disposable containers for takeout orders, as it eliminates the need to wash and carry reusable boxes. This demand for convenience is a significant factor in the decision-making process.\n",
      "(Source: [Vulcan Post](https://vulcanpost.com/717719/reusable-containers-food-delivery-singapore/))\n",
      "\n",
      "2. The Covid-19 pandemic has also impacted efforts to reduce plastic waste, as there may be concerns about hygiene and safety when using reusable containers for food delivery.\n",
      "(Source: [Vulcan Post](https://vulcanpost.com/717719/reusable-containers-food-delivery-singapore/))\n",
      "\n",
      "3. Initiatives like the Makanai Box concept, which encourages the use of reusable containers for takeout meals, may face challenges due to unfamiliarity with the concept and cultural differences.\n",
      "(Source: [Eco-Business](https://www.eco-business.com/news/why-is-this-reusable-container-scheme-in-singapore-not-working/))\u001b[0m\n",
      "\n",
      "\u001b[1m> Finished chain.\u001b[0m\n"
     ]
    },
    {
     "data": {
      "text/plain": [
       "{'input': 'Conduct research on why Singaporeans not using bringing their reuseable boxes for takeout orders?',\n",
       " 'output': 'I found some information on why Singaporeans may not be bringing their reusable boxes for takeout orders:\\n\\n1. Some Singaporeans may prefer the convenience of using disposable containers for takeout orders, as it eliminates the need to wash and carry reusable boxes. This demand for convenience is a significant factor in the decision-making process.\\n(Source: [Vulcan Post](https://vulcanpost.com/717719/reusable-containers-food-delivery-singapore/))\\n\\n2. The Covid-19 pandemic has also impacted efforts to reduce plastic waste, as there may be concerns about hygiene and safety when using reusable containers for food delivery.\\n(Source: [Vulcan Post](https://vulcanpost.com/717719/reusable-containers-food-delivery-singapore/))\\n\\n3. Initiatives like the Makanai Box concept, which encourages the use of reusable containers for takeout meals, may face challenges due to unfamiliarity with the concept and cultural differences.\\n(Source: [Eco-Business](https://www.eco-business.com/news/why-is-this-reusable-container-scheme-in-singapore-not-working/))'}"
      ]
     },
     "execution_count": 13,
     "metadata": {},
     "output_type": "execute_result"
    }
   ],
   "source": [
    "agent_executor.invoke({\"input\": \"Conduct research on why Singaporeans not using bringing their reuseable boxes for takeout orders?\"})"
   ]
  },
  {
   "cell_type": "code",
   "execution_count": 18,
   "metadata": {},
   "outputs": [
    {
     "name": "stdout",
     "output_type": "stream",
     "text": [
      "\n",
      "\n",
      "\u001b[1m> Entering new AgentExecutor chain...\u001b[0m\n",
      "\u001b[32;1m\u001b[1;3m\n",
      "Invoking: `tavily_search_results_json` with `{'query': 'weather in Singapore today'}`\n",
      "\n",
      "\n",
      "\u001b[0m\u001b[33;1m\u001b[1;3m[{'url': 'https://www.weatherapi.com/', 'content': \"Weather in Singapore is {'location': {'name': 'Singapore', 'region': '', 'country': 'Singapore', 'lat': 1.29, 'lon': 103.86, 'tz_id': 'Asia/Singapore', 'localtime_epoch': 1708789633, 'localtime': '2024-02-24 23:47'}, 'current': {'last_updated_epoch': 1708789500, 'last_updated': '2024-02-24 23:45', 'temp_c': 27.0, 'temp_f': 80.6, 'is_day': 0, 'condition': {'text': 'Partly cloudy', 'icon': '//cdn.weatherapi.com/weather/64x64/night/116.png', 'code': 1003}, 'wind_mph': 3.8, 'wind_kph': 6.1, 'wind_degree': 330, 'wind_dir': 'NNW', 'pressure_mb': 1013.0, 'pressure_in': 29.91, 'precip_mm': 0.0, 'precip_in': 0.0, 'humidity': 79, 'cloud': 75, 'feelslike_c': 30.3, 'feelslike_f': 86.5, 'vis_km': 10.0, 'vis_miles': 6.0, 'uv': 1.0, 'gust_mph': 19.7, 'gust_kph': 31.6}}\"}, {'url': 'https://weatherspark.com/h/y/114655/2024/Historical-Weather-during-2024-in-Singapore', 'content': 'Singapore Temperature History 2024\\nHourly Temperature in 2024 in Singapore\\nCompare Singapore to another city:\\nCloud Cover in 2024 in Singapore\\nObserved Weather in 2024 in Singapore\\nHours of Daylight and Twilight in 2024 in Singapore\\nSunrise & Sunset with Twilight in 2024 in Singapore\\nSolar Elevation and Azimuth in 2024 in Singapore\\nMoon Rise, Set & Phases in 2024 in Singapore\\nHumidity Comfort Levels in 2024 in Singapore\\nWind Speed in 2024 in Singapore\\nHourly Wind Speed in 2024 in Singapore\\nHourly Wind Direction in 2024 in Singapore\\nAtmospheric Pressure in 2024 in Singapore\\nData Sources\\n 81°F\\nPrecipitation\\nNo Report\\nWind\\n5.8 mph\\nCloud Cover\\nMostly Cloudy\\n28,000 ft\\nRaw: WSSS 140030Z 34005KT 9999 FEW016 SCT160 BKN280 27/24 Q1011 NOSIG\\n While having the tremendous advantages of temporal and spatial completeness, these reconstructions: (1) are based on computer models that may have model-based errors, (2) are coarsely sampled on a 50 km grid and are therefore unable to reconstruct the local variations of many microclimates, and (3) have particular difficulty with the weather in some coastal areas, especially small islands.\\n We further caution that our travel scores are only as good as the data that underpin them, that weather conditions at any given location and time are unpredictable and variable, and that the definition of the scores reflects a particular set of preferences that may not agree with those of any particular reader.\\n See all nearby weather stations\\nLatest Report — 8:30 AM\\nSun, Jan 14, 2024\\xa0\\xa0\\xa0\\xa023 min ago\\xa0\\xa0\\xa0\\xa0UTC 00:30\\nCall Sign WSSS\\nTemp.\\n'}, {'url': 'https://www.weather2travel.com/singapore/february/', 'content': 'Check more long-term weather averages for Singapore in February before you book your next holiday to Singapore in 2024/2025. 30. 30°C max day temperature. 7. 7 hours of sunshine per day. 10. 10 days with some rainfall. 23. 23°C min night temperature.'}, {'url': 'https://www.whereandwhen.net/when/southeast-asia/singapore/singapore/february/', 'content': \"Average weather throughout february\\ntolerable weather\\nUV index: 7\\nPartly Cloudy41% of time\\n41%\\n20%\\n20%\\n12%\\nModerate rain at times39% of time\\n39%\\n23%\\n19%\\n18%\\nModerate rain at times42% of time\\n42%\\n31%\\n17%\\n10%\\n42%\\n21%\\n20%\\n12%\\nEvolution of daily average temperature and precipitation in Singapore in february\\n Find a flight to Singapore:\\nFind the best price for your hotel room\\nFind the best price for your car rental\\nSearch for a Flight+Hotel package to Singapore in february\\nSeasonal average climate and temperature of Singapore in february\\nCheck below seasonal norms These statistics are set from the weather statements of the last years of february.\\n How was the weather last february?\\nHere is the day by day recorded weather in Singapore in february 2023:\\nMap: other cities in Singapore in february\\nCities near Singapore:\\nClick over cities on the map for information about the weather in february.\\n And When site:\\nSingapore in february: average Weather, Temperature and Climate\\nYou want to go to Singapore in Singapore in february : check the weather and seasonal norms here.\\n The climate of Singapore in february is tolerable\\nThe month of February is one of the periods when heat, characteristic of Singapore's climate, is relatively acceptable.\"}, {'url': 'https://en.climate-data.org/asia/singapore/singapore/singapore-4766/t/february-2/', 'content': '°C\\n(78.4) °F\\n26.2 °C\\n(79.2) °F\\n26.7 °C\\n(80.1) °F\\n27.1 °C\\n(80.7) °F\\n27.4 °C\\n(81.2) °F\\n27.3 °C\\n(81.1) °F\\n27 °C\\n(80.6) °F\\n26.9 °C\\n(80.4) °F\\n26.9 °C\\n(80.4) °F\\n26.7 °C\\n(80.1) °F\\n26.3 °C\\n(79.3) °F\\n26 °C\\n(78.7) °F\\n24.3 °C\\n(75.8) °F\\n24.5 °C\\n(76.1) °F\\n25 °C\\n(76.9) °F\\n25.4 °C\\n(77.7) °F\\n25.7 °C\\n(78.3) °F\\n25.7 °C\\n(78.2) °F\\n25.5 °C\\n(77.8) °F\\n25.4 °C\\n(77.7) °F\\n25.3 °C\\n(77.5) °F\\n25.1 °C\\n(77.1) °F\\n24.8 °C\\n(76.7) °F\\n24.6 °C\\n(76.3) °F\\n27.9 °C\\n(82.2) °F\\n28.7 °C\\n(83.6) °F\\n29.1 °C\\n(84.4) °F\\n29.2 °C\\n(84.5) °F\\n29.1 °C\\n(84.4) °F\\n29 °C\\n(84.1) °F\\n28.5 °C\\n(83.4) °F\\n28.5 °C\\n(83.2) °F\\n28.6 °C\\n(83.4) °F\\n28.7 °C\\n(83.6) °F\\n28.3 °C\\n(82.9) °F\\n28 °C\\n(82.4) °F\\n168\\n(6)\\n97\\n(3)\\n152\\n(5)\\n198\\n(7)\\n232\\n(9)\\n200\\n(7)\\n199\\n(7)\\n185\\n(7)\\n164\\n(6)\\n214\\n(8)\\n280\\n(11)\\n277\\n(10)\\nData: 1991 - 2021 Min. Temperature °C (°F), Max. Here you can find all information about the weather in Singapore in February:\\nSingapore weather in February\\nSingapore weather by month // weather averages\\n25.8\\n(78.4)\\n24.3\\n(75.8)\\n27.9\\n(82.2)\\n168\\n(6.6)\\n26.2\\n(79.2)\\n24.5\\n(76.1)\\n28.7\\n(83.6)\\n97\\n(3.8)\\n26.7\\n(80.1)\\n25\\n(76.9)\\n29.1\\n(84.4)\\n152\\n(6)\\n27.1\\n(80.7)\\n25.4\\n(77.7)\\n29.2\\n(84.5)\\n198\\n(7.8)\\n27.4\\n(81.2)\\n25.7\\n(78.3)\\n29.1\\n(84.4)\\n232\\n(9.1)\\n27.3\\n(81.1)\\n25.7\\n(78.2)\\n29\\n(84.1)\\n200\\n(7.9)\\n27\\n(80.6)\\n25.5\\n(77.8)\\n28.5\\n(83.4)\\n199\\n(7.8)\\n26.9\\n(80.4)\\n25.4\\n(77.7)\\n28.5\\n(83.2)\\n185\\n(7.3)\\n26.9\\n(80.4)\\n25.3\\n(77.5)\\n28.6\\n(83.4)\\n164\\n(6.5)\\n26.7\\n(80.1)\\n25.1\\n(77.1)\\n28.7\\n(83.6)\\n214\\n(8.4)\\n26.3\\n(79.3)\\n24.8\\n(76.7)\\n28.3\\n(82.9)\\n280\\n(11)\\n26\\n(78.7)\\n24.6\\n(76.3)\\n28\\n(82.4)\\n277\\n(10.9)\\n25.8 London (LHR), Copenhagen (CPH), Sydney (SYD), Mumbai (BOM), New Delhi (DEL), Paris (CDG), Beijing (PEK), Yangon (RGN), Frankfurt am Main (FRA), Tashkent (TAS), Perth (PER), Dubai (DXB), Colombo (CMB), Osaka (KIX), Kaohsiung City (KHH), Milan (MXP), Kathmandu (KTM), Rome (FCO), Hanoi (HAN), Gold Coast (OOL)\\nBarcelona (BCN), Chiang Mai (CNX), Manila (MNL), Kalibo (KLO), Port Moresby (POM), Zurich (ZRH), Chengdu (CTU), Fuzhou (FOC), Guiyang (KWE), Guangzhou (CAN), Haikou (HAK), Hangzhou (HGH), Ningbo (NGB), Nanjing (NKG), Qingdao (TAO), Shantou (SWA), Tianjin (TSN), Xiamen (XMN), Wuhan (WUH), Thiruvananthapuram (TRV), Coimbatore (CJB), Hyderabad (HYD), Visakhapatnam (VTZ), Kolkata (CCU), Ahmedabad (AMD), Phuket (HKT), Siem Reap (REP), Abu Dhabi (AUH), Tokyo (NRT), Amsterdam (AMS), Auckland (AKL), Ipoh (IPH), Hat Yai (HDY), Kota Kinabalu (BKI), Riyadh (RUH), Davao City (DVO), Pekanbaru (PKU), Ho Chi Minh City (SGN), Da Nang (DAD), Mataram (LOP), Bengaluru (BLR), Nanning (NNG), Lapu-Lapu City (CEB), Phnom Penh (PNH), Tokoname (NGO), Christchurch (CHC), Kuching (KCH), Kuantan (KUA), Chongqing (CKG), Shanghai (PVG), Adelaide (ADL), Taipei City (TPE), Helsinki (HEL), Brisbane (BNE), Bangkok (DMK), Darwin (DRW), Doha (DOH), Moscow (DME), Bandar Seri Begawan (BWN), Munich (MUC), Iloilo City (ILO), Miri (MYY), Kuala Terengganu (TGG), Lijiang (LJG), Krabi (KBV), Penang (PEN), Ko Samui (USM), Jakarta (CGK), Istanbul (IST), Kuala Lumpur (KUL), Seoul (ICN), Melbourne (MEL), Subang (SZB), Jeddah (JED), Changsha (CSX), Fukuoka (FUK), Taipa (MFM), Cochin (COK), Kunming (KMG), Surabaya (SUB), Hong Kong (HKG), Wuxi (WUX), Chennai (MAA), Dhaka (DAC), Shenzhen (SZX)\\nLondonSydneyMelbourneTorontoDubaiNew YorkVancouverParisLas VegasLos Angeles\\nOrlando in JanuaryNashville in JanuaryLas Vegas in JanuaryNew York in JanuaryCalifornia in JanuaryAustin in JanuaryTenerife in JanuaryBenidorm in JanuaryMelbourne in JanuaryNew Delhi in JanuaryManali in January\\nNew Orleans in FebruaryOrlando in FebruaryLas Vegas in FebruaryNashville in FebruaryPalm Springs in FebruaryPhoenix in FebruaryMelbourne in FebruaryTenerife in FebruaryAlgarve in FebruaryNew Delhi in FebruaryManali in February\\nLas Vegas in DecemberOrlando in DecemberLas Vegas in MarchOrlando in JanuaryNashville in DecemberTurkey in SeptemberTurkey in JuneBenidorm in AprilManali in DecemberMelbourne in DecemberSydney in DecemberNew York in December\\nTiban IndahTanjung UmaDanga BayTasek UtaraJohor Bahru CentralPelangiPasir GudangTanjung LangsatLarkinJohor BahruPermas JayaMasaiSeri AlamKota MasaiLubuk BajaSungai JodohSungai JodohBatam CityTanjung PinangLadang Sun hours\\nSingapore weather and climate for further months\\nSingapore weather in February // weather averages\\nAirport close to Singapore\\nThe closest Airports of Singapore are: Changi Air Base (SIN) 17.23km\\nYou can reach Singapore from this Cities by Plane: Temperature °C (°F), Precipitation / Rainfall mm (in), Humidity, Rainy days.\\n'}]\u001b[0m\u001b[32;1m\u001b[1;3mThe weather in Singapore today is partly cloudy with a temperature of 27.0°C (80.6°F). The wind speed is 3.8 mph and the humidity is 79%. It is currently nighttime in Singapore.\u001b[0m\n",
      "\n",
      "\u001b[1m> Finished chain.\u001b[0m\n"
     ]
    },
    {
     "data": {
      "text/plain": [
       "{'input': 'what is the weather like today in singapore ?',\n",
       " 'output': 'The weather in Singapore today is partly cloudy with a temperature of 27.0°C (80.6°F). The wind speed is 3.8 mph and the humidity is 79%. It is currently nighttime in Singapore.'}"
      ]
     },
     "execution_count": 18,
     "metadata": {},
     "output_type": "execute_result"
    }
   ],
   "source": [
    "agent_executor.invoke({\"input\": \"what is the weather like today in singapore ?\"})"
   ]
  },
  {
   "cell_type": "markdown",
   "metadata": {},
   "source": [
    "## Prompt + LLM"
   ]
  },
  {
   "cell_type": "code",
   "execution_count": 139,
   "metadata": {},
   "outputs": [
    {
     "data": {
      "text/plain": [
       "'TypeScript is a programming language developed by Microsoft that is a superset of JavaScript. It adds static typing to the language, making it easier to catch errors and bugs in the code during development. TypeScript also includes features such as interfaces, classes, and modules, which help organize and structure code in a more maintainable way.\\n\\nOne of the main benefits of using TypeScript is that it allows developers to write cleaner and more scalable code, as the type system helps to enforce consistency and reduce the likelihood of runtime errors. Additionally, TypeScript code can be compiled into plain JavaScript, which means it can be run on any browser or platform that supports JavaScript.\\n\\nOverall, TypeScript is a popular choice for developers who want to take advantage of the benefits of static typing while still working within the familiar syntax and ecosystem of JavaScript.'"
      ]
     },
     "execution_count": 139,
     "metadata": {},
     "output_type": "execute_result"
    }
   ],
   "source": [
    "from langchain.output_parsers.openai_functions import JsonOutputFunctionsParser, JsonKeyOutputFunctionsParser\n",
    "prompt = ChatPromptTemplate.from_template(\"\"\"Tell me about {subject}\"\"\")\n",
    "chain = prompt | llm | output_parser\n",
    "chain.invoke({\"subject\":\"typescript\"})"
   ]
  },
  {
   "cell_type": "code",
   "execution_count": 137,
   "metadata": {},
   "outputs": [],
   "source": [
    "functions = [\n",
    "    {\n",
    "        \"name\": \"joke\",\n",
    "        \"description\": \"A joke\",\n",
    "        \"parameters\": {\n",
    "            \"type\": \"object\",\n",
    "            \"properties\": {\n",
    "                \"setup\": {\"type\": \"string\", \"description\": \"The setup for the joke\"},\n",
    "                \"punchline\": {\n",
    "                    \"type\": \"string\",\n",
    "                    \"description\": \"The punchline for the joke\",\n",
    "                },\n",
    "            },\n",
    "            \"required\": [\"setup\", \"punchline\"],\n",
    "        },\n",
    "    }\n",
    "]\n",
    "\n",
    "chain = prompt | llm.bind(function_call={\"name\":\"joke\"}, functions=functions) | JsonOutputFunctionsParser()"
   ]
  },
  {
   "cell_type": "code",
   "execution_count": 138,
   "metadata": {},
   "outputs": [
    {
     "data": {
      "text/plain": [
       "{'setup': 'Why did the dog sit in the shade?',\n",
       " 'punchline': \"Because he didn't want to be a hot dog!\"}"
      ]
     },
     "execution_count": 138,
     "metadata": {},
     "output_type": "execute_result"
    }
   ],
   "source": [
    "chain.invoke({\"subject\":\"joke about dog\"})"
   ]
  },
  {
   "cell_type": "code",
   "execution_count": 141,
   "metadata": {},
   "outputs": [
    {
     "data": {
      "text/plain": [
       "'Because he had perfect pitch!'"
      ]
     },
     "execution_count": 141,
     "metadata": {},
     "output_type": "execute_result"
    }
   ],
   "source": [
    "chain = prompt | llm.bind(function_call={\"name\":\"joke\"}, functions=functions) | JsonKeyOutputFunctionsParser(key_name=\"punchline\")\n",
    "chain.invoke({\"subject\":\"joke about dog\"})"
   ]
  },
  {
   "cell_type": "code",
   "execution_count": 144,
   "metadata": {},
   "outputs": [],
   "source": [
    "from langchain_core.runnables import RunnablePassthrough\n",
    "\n",
    "chain = {\"subject\": RunnablePassthrough()} | prompt | llm.bind(function_call={\"name\":\"joke\"}, functions=functions) | JsonKeyOutputFunctionsParser(key_name=\"punchline\")"
   ]
  },
  {
   "cell_type": "code",
   "execution_count": 145,
   "metadata": {},
   "outputs": [
    {
     "data": {
      "text/plain": [
       "'He wanted a well-balanced meal!'"
      ]
     },
     "execution_count": 145,
     "metadata": {},
     "output_type": "execute_result"
    }
   ],
   "source": [
    "chain.invoke(\"Singapore\")"
   ]
  },
  {
   "cell_type": "markdown",
   "metadata": {},
   "source": [
    "## RAG with Qdrant Cloud"
   ]
  },
  {
   "cell_type": "code",
   "execution_count": 19,
   "metadata": {},
   "outputs": [],
   "source": [
    "import qdrant_client\n",
    "from qdrant_client.http import models"
   ]
  },
  {
   "cell_type": "code",
   "execution_count": 20,
   "metadata": {},
   "outputs": [
    {
     "data": {
      "text/plain": [
       "'https://d57352dd-722d-437b-8250-674f0ba883f3.us-east4-0.gcp.cloud.qdrant.io:6333'"
      ]
     },
     "execution_count": 20,
     "metadata": {},
     "output_type": "execute_result"
    }
   ],
   "source": [
    "os.getenv(\"QDRANT_HOST\")"
   ]
  },
  {
   "cell_type": "code",
   "execution_count": 21,
   "metadata": {},
   "outputs": [],
   "source": [
    "client = qdrant_client.QdrantClient(os.getenv(\"QDRANT_HOST\"), api_key=os.getenv(\"QDRANT_API_KEY\"))"
   ]
  },
  {
   "cell_type": "code",
   "execution_count": 22,
   "metadata": {},
   "outputs": [
    {
     "data": {
      "text/plain": [
       "True"
      ]
     },
     "execution_count": 22,
     "metadata": {},
     "output_type": "execute_result"
    }
   ],
   "source": [
    "vectors_config = models.VectorParams(size=1536, distance=models.Distance.COSINE)\n",
    "# create collection\n",
    "client.recreate_collection(collection_name=\"langsmith_cookbook\", vectors_config=vectors_config)"
   ]
  },
  {
   "cell_type": "code",
   "execution_count": 44,
   "metadata": {},
   "outputs": [],
   "source": [
    "from langchain_community.vectorstores import Qdrant\n",
    "vector = Qdrant(client, \"langsmith_cookbook\", embeddings=embeddings)\n",
    "retriever = vector.as_retriever(search_kwargs={\"k\": 3})"
   ]
  },
  {
   "cell_type": "code",
   "execution_count": 45,
   "metadata": {},
   "outputs": [
    {
     "data": {
      "text/plain": [
       "['03e55596c9b641a7a30184147dd870f4',\n",
       " 'f1ae83fc93284b928055dc53e22ceef4',\n",
       " '59e483e9e6254d538b8007a5866c7fda',\n",
       " '1a75cac9a17e4a579684cb6e62250b05',\n",
       " '7aa9b47010ed4a1fb4099063bd9bbf12',\n",
       " '47e652c6a91742c18003bf0e7ef7659b',\n",
       " 'd0c905a7440a4aafad146759ca5b0e34',\n",
       " '3a9a9fc9126649f58c0344360538a799',\n",
       " '2f9ac9a9637e4228862d66ab36e7ebe9',\n",
       " 'd5d78a760d1943e9bbe39775f6b2c74a',\n",
       " 'd387a07d0ed74c3e83c5dd2605cae0c4',\n",
       " 'd10fcf8fa3994ebb97ccad440f9cc302',\n",
       " '7aaeb53d78794b1d9f274b3de32f0679',\n",
       " '62c8cff3524e4b9799db4e384f7402f3']"
      ]
     },
     "execution_count": 45,
     "metadata": {},
     "output_type": "execute_result"
    }
   ],
   "source": [
    "from langchain_community.document_loaders.text import TextLoader\n",
    "loader = TextLoader(\"./langchain_docs.txt\")\n",
    "document = loader.load()\n",
    "text_splitter = RecursiveCharacterTextSplitter(chunk_size=256, chunk_overlap=20)\n",
    "docs = text_splitter.split_documents(document)\n",
    "vector.add_documents(docs)"
   ]
  },
  {
   "cell_type": "code",
   "execution_count": 46,
   "metadata": {},
   "outputs": [],
   "source": [
    "prompt = ChatPromptTemplate.from_template(\"\"\"Answer the following question based only on the provided context:\n",
    "                                          <context>\n",
    "                                          {context}\n",
    "                                          </context>\n",
    "                                          Question: {input}\"\"\")\n",
    "document_chain = create_stuff_documents_chain(llm, prompt)\n",
    "retrieval_chain = create_retrieval_chain(retriever, document_chain)\n",
    "response = retrieval_chain.invoke({\"input\": \"What link to find for langchain quickstart?\"})"
   ]
  },
  {
   "cell_type": "code",
   "execution_count": 47,
   "metadata": {},
   "outputs": [
    {
     "data": {
      "text/plain": [
       "'The link to find for LangChain quickstart is: https://python.langchain.com/docs/get_started/quickstart'"
      ]
     },
     "execution_count": 47,
     "metadata": {},
     "output_type": "execute_result"
    }
   ],
   "source": [
    "response['answer']"
   ]
  },
  {
   "cell_type": "markdown",
   "metadata": {},
   "source": [
    "An example of documents vectorised and stored in Qdrant Cloud\n",
    "\n",
    "![Upstash Redis](./images/vectorstore.png)"
   ]
  },
  {
   "cell_type": "markdown",
   "metadata": {},
   "source": []
  }
 ],
 "metadata": {
  "kernelspec": {
   "display_name": "venv",
   "language": "python",
   "name": "python3"
  },
  "language_info": {
   "codemirror_mode": {
    "name": "ipython",
    "version": 3
   },
   "file_extension": ".py",
   "mimetype": "text/x-python",
   "name": "python",
   "nbconvert_exporter": "python",
   "pygments_lexer": "ipython3",
   "version": "3.11.7"
  }
 },
 "nbformat": 4,
 "nbformat_minor": 2
}
